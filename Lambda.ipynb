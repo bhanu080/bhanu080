{
  "nbformat": 4,
  "nbformat_minor": 0,
  "metadata": {
    "colab": {
      "provenance": [],
      "collapsed_sections": [],
      "authorship_tag": "ABX9TyP5jM2lkhTeB1iYEQmKLEoK",
      "include_colab_link": true
    },
    "kernelspec": {
      "name": "python3",
      "display_name": "Python 3"
    },
    "language_info": {
      "name": "python"
    }
  },
  "cells": [
    {
      "cell_type": "markdown",
      "metadata": {
        "id": "view-in-github",
        "colab_type": "text"
      },
      "source": [
        "<a href=\"https://colab.research.google.com/github/bhanu080/bhanu080/blob/main/Lambda.ipynb\" target=\"_parent\"><img src=\"https://colab.research.google.com/assets/colab-badge.svg\" alt=\"Open In Colab\"/></a>"
      ]
    },
    {
      "cell_type": "code",
      "execution_count": 2,
      "metadata": {
        "colab": {
          "base_uri": "https://localhost:8080/"
        },
        "id": "DAKh_s52kPKT",
        "outputId": "fdd1f4fe-52b1-499f-94ad-ee46989771e9"
      },
      "outputs": [
        {
          "output_type": "stream",
          "name": "stdout",
          "text": [
            "25\n",
            "12\n"
          ]
        }
      ],
      "source": [
        "# Write a Python program to create a lambda function that adds 15 to a given number passed in as an argument, also create a lambda function that multiplies argument x with argument y and print the result.\n",
        "a=lambda x:x+15\n",
        "print(a(10))\n",
        "a=lambda p,q:p*q\n",
        "print(a(3,4))"
      ]
    },
    {
      "cell_type": "code",
      "source": [
        "# 2. Write a Python program to extract PRESENT year, month, date and time using Lambda.\n",
        "\n",
        "import datetime\n",
        "now = datetime.datetime.now()\n",
        "print(now)\n",
        "year = lambda x: x.year\n",
        "month = lambda x: x.month\n",
        "day = lambda x: x.day\n",
        "t = lambda x: x.time()\n",
        "print(year(now))\n",
        "print(month(now))\n",
        "print(day(now))\n",
        "print(t(now))\n"
      ],
      "metadata": {
        "colab": {
          "base_uri": "https://localhost:8080/"
        },
        "id": "mYH-l8-HlCKz",
        "outputId": "da994b2a-f647-45a8-bf46-960e05e6a155"
      },
      "execution_count": 7,
      "outputs": [
        {
          "output_type": "stream",
          "name": "stdout",
          "text": [
            "2022-09-20 11:14:18.498898\n",
            "2022\n",
            "9\n",
            "20\n",
            "11:14:18.498898\n"
          ]
        }
      ]
    },
    {
      "cell_type": "code",
      "source": [
        "# 3.Write a Python program that sum the length of the names of a given list of names after removing the names that starts with a lowercase letter. Use lambda function.\n",
        "\n",
        "names = ['Kavys', 'Dyan', 'Disha', 'Diana']\n",
        "names=list(filter(lambda e:e[0].isupper() and e[1:].islower(),names))\n",
        "print(\"Result:\")\n",
        "print(len(''.join(names)))"
      ],
      "metadata": {
        "colab": {
          "base_uri": "https://localhost:8080/"
        },
        "id": "uRgGIJRDm5PG",
        "outputId": "7be09e93-bd00-4150-e0a7-f97f17023ee6"
      },
      "execution_count": 9,
      "outputs": [
        {
          "output_type": "stream",
          "name": "stdout",
          "text": [
            "Result:\n",
            "19\n"
          ]
        }
      ]
    },
    {
      "cell_type": "code",
      "source": [
        "# 4. Write a Python program to extract specified size of strings from a give list of string values using lambda\n",
        "def string(str_list, l):\n",
        "    result = list(filter(lambda e: len(e) == l, str_list))\n",
        "    return result\n",
        "\n",
        "str_list= ['Python', 'list', 'exercises', 'practice', 'solution'] \n",
        "print(\"Original list:\")\n",
        "print(str_list)\n",
        "l = 8\n",
        "print(\"\\nlength of the string to extract:\")\n",
        "print(l)\n",
        "print(\"\\nAfter extracting strings of specified length from the said list:\")\n",
        "print(string(str_list , l))"
      ],
      "metadata": {
        "colab": {
          "base_uri": "https://localhost:8080/"
        },
        "id": "XHXvqIqinveA",
        "outputId": "6fc13543-c569-4db4-f142-b5e7703e1b65"
      },
      "execution_count": 13,
      "outputs": [
        {
          "output_type": "stream",
          "name": "stdout",
          "text": [
            "Original list:\n",
            "['Python', 'list', 'exercises', 'practice', 'solution']\n",
            "\n",
            "length of the string to extract:\n",
            "8\n",
            "\n",
            "After extracting strings of specified length from the said list:\n",
            "['practice', 'solution']\n"
          ]
        }
      ]
    },
    {
      "cell_type": "code",
      "source": [
        "#  5. Write a Python program to find the elements of a given list of strings that contain specific substring using lambda.\n",
        "\n",
        "#Original list:['red', 'black', 'white', 'green', 'orange']\n",
        "# Substring to search:ack\n",
        "# Elements of the said list that contain specific substring: ['black']\n",
        "# Substring to search:abc\n",
        "#Elements of the said list that contain specific substring:[]\n",
        "\n",
        "def find_substring(str, sub_str):\n",
        "    result = list(filter(lambda x: sub_str in x, str))\n",
        "    return result\n",
        "colors = [\"red\", \"black\", \"white\", \"green\", \"orange\"]\n",
        "print(\"Original list:\")\n",
        "print(colors)\n",
        "\n",
        "sub_str = \"ack\"\n",
        "print(\"\\nSubstring to search:\")\n",
        "print(sub_str)\n",
        "print(\"Elements of the said list that contain specific substring:\")\n",
        "print(find_substring(colors, sub_str))\n",
        "sub_str = \"abc\"\n",
        "print(\"\\nSubstring to search:\")\n",
        "print(sub_str)\n",
        "print(\"Elements of the said list that contain specific substring:\")\n",
        "print(find_substring(colors, sub_str))"
      ],
      "metadata": {
        "colab": {
          "base_uri": "https://localhost:8080/"
        },
        "id": "eeKfaAFQnjzd",
        "outputId": "f2d30869-1b32-4864-e1a9-905a5c49dfd3"
      },
      "execution_count": 14,
      "outputs": [
        {
          "output_type": "stream",
          "name": "stdout",
          "text": [
            "Original list:\n",
            "['red', 'black', 'white', 'green', 'orange']\n",
            "\n",
            "Substring to search:\n",
            "ack\n",
            "Elements of the said list that contain specific substring:\n",
            "['black']\n",
            "\n",
            "Substring to search:\n",
            "abc\n",
            "Elements of the said list that contain specific substring:\n",
            "[]\n"
          ]
        }
      ]
    }
  ]
}