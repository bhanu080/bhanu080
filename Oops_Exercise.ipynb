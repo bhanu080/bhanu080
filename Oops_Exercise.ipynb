{
  "nbformat": 4,
  "nbformat_minor": 0,
  "metadata": {
    "colab": {
      "provenance": [],
      "collapsed_sections": [],
      "authorship_tag": "ABX9TyO6vCod63ynVIeBp4+azlJ1",
      "include_colab_link": true
    },
    "kernelspec": {
      "name": "python3",
      "display_name": "Python 3"
    },
    "language_info": {
      "name": "python"
    }
  },
  "cells": [
    {
      "cell_type": "markdown",
      "metadata": {
        "id": "view-in-github",
        "colab_type": "text"
      },
      "source": [
        "<a href=\"https://colab.research.google.com/github/bhanu080/bhanu080/blob/main/Oops_Exercise.ipynb\" target=\"_parent\"><img src=\"https://colab.research.google.com/assets/colab-badge.svg\" alt=\"Open In Colab\"/></a>"
      ]
    },
    {
      "cell_type": "code",
      "execution_count": 5,
      "metadata": {
        "colab": {
          "base_uri": "https://localhost:8080/"
        },
        "id": "C6TscgGhunxJ",
        "outputId": "5f11dfe7-3ad0-42f9-c6dd-69c80bc4aa45"
      },
      "outputs": [
        {
          "output_type": "stream",
          "name": "stdout",
          "text": [
            "10\n",
            "Adya\n",
            "10-A\n",
            "ID 10 10-A\n"
          ]
        }
      ],
      "source": [
        "# 1.Write a Python class named Student with two attributes student_id, student_name. Add a new attribute student_class and display the entire attribute and their values of the said class. Now remove the student_name attribute and display the entire attribute with values\n",
        "\n",
        "class Student:\n",
        "    student_id = 10\n",
        "    student_name = \"Adya\"\n",
        "print(Student.student_id)\n",
        "print(Student.student_name)\n",
        "\n",
        "#add attributes to student_class\n",
        "Student.student_class = \"10-A\"\n",
        "print(Student.student_class)\n",
        "\n",
        "#remove the attribute student_name\n",
        "\n",
        "del Student.student_name\n",
        "print(\"ID\",Student.student_id,Student.student_class)\n",
        "\n"
      ]
    },
    {
      "cell_type": "code",
      "source": [
        "# 2.write a python class to implement pow(x,n)\n",
        "\n",
        "class power:\n",
        "  def pow(self,x,n):\n",
        "    if n==0:\n",
        "      return 1\n",
        "    if n<0:\n",
        "      return 1/self.pow(x,n)\n",
        "    pow=1\n",
        "\n",
        "    for i in range(n):\n",
        "      pow=pow*x\n",
        "    return pow\n",
        "\n",
        "print(power().pow(2,3))\n"
      ],
      "metadata": {
        "colab": {
          "base_uri": "https://localhost:8080/"
        },
        "id": "V2p74JxWu4kz",
        "outputId": "d53ae010-93d0-4b42-c4e0-0e364f8118ae"
      },
      "execution_count": 10,
      "outputs": [
        {
          "output_type": "stream",
          "name": "stdout",
          "text": [
            "8\n"
          ]
        }
      ]
    },
    {
      "cell_type": "code",
      "source": [
        "#  3. write a program to create a python class to reverse a string word by word\n",
        "\n",
        "class word:\n",
        "  def reverse_words(self,s):\n",
        "    return ' '.join(reversed(s.split()))\n",
        "\n",
        "print(word().reverse_words('Good Morning '))\n"
      ],
      "metadata": {
        "colab": {
          "base_uri": "https://localhost:8080/"
        },
        "id": "e6sTWXFPvGmA",
        "outputId": "6bd43b18-8b4e-4e0d-baf1-60ba2aedd9ea"
      },
      "execution_count": 4,
      "outputs": [
        {
          "output_type": "stream",
          "name": "stdout",
          "text": [
            "Morning Good\n"
          ]
        }
      ]
    },
    {
      "cell_type": "code",
      "source": [
        "# 4.Write a Python class named Circle constructed by a radius and two methods which will compute the area and the perimeter of a circle\n",
        "\n",
        "class Circle:\n",
        "  def __init__(self,r):\n",
        "    self.radius=r\n",
        "\n",
        "  def area(self):\n",
        "        return self.radius**2*3.14\n",
        "    \n",
        "  def perimeter(self):\n",
        "        return 2*self.radius*3.14\n",
        "\n",
        "c = Circle(4)\n",
        "print(c.area())\n",
        "print(c.perimeter())\n"
      ],
      "metadata": {
        "colab": {
          "base_uri": "https://localhost:8080/"
        },
        "id": "_rrUzeBM3c12",
        "outputId": "faf2a27e-cc37-4772-f041-0b761d51407f"
      },
      "execution_count": 3,
      "outputs": [
        {
          "output_type": "stream",
          "name": "stdout",
          "text": [
            "50.24\n",
            "25.12\n"
          ]
        }
      ]
    },
    {
      "cell_type": "code",
      "source": [
        "# Write a Python class to convert a roman numeral to an integer\n",
        "\n",
        "class romandigit():\n",
        "    def roman_to_int(self, s):\n",
        "        rom_val = {'I':1, 'V':5, 'X':10, 'L':50, 'C':100, 'D':500, 'M':1000}\n",
        "        int_val = 0\n",
        "        for i in range(len(s)):\n",
        "            if i > 0 and rom_val[s[i]] > rom_val[s[i - 1]]:\n",
        "                int_val += rom_val[s[i]] - 2 * rom_val[s[i - 1]]\n",
        "            else:\n",
        "                int_val += rom_val[s[i]]\n",
        "        return int_val\n",
        "\n",
        "print(romandigit().roman_to_int('MMMM'))\n"
      ],
      "metadata": {
        "colab": {
          "base_uri": "https://localhost:8080/"
        },
        "id": "mDmdZYX0B7sx",
        "outputId": "0715c9a5-7273-46cb-aef7-7920e3312855"
      },
      "execution_count": 2,
      "outputs": [
        {
          "output_type": "stream",
          "name": "stdout",
          "text": [
            "4000\n"
          ]
        }
      ]
    }
  ]
}