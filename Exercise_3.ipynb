{
  "nbformat": 4,
  "nbformat_minor": 0,
  "metadata": {
    "colab": {
      "provenance": [],
      "authorship_tag": "ABX9TyO+2kYlilzRwpKh5d7vjr8t",
      "include_colab_link": true
    },
    "kernelspec": {
      "name": "python3",
      "display_name": "Python 3"
    },
    "language_info": {
      "name": "python"
    }
  },
  "cells": [
    {
      "cell_type": "markdown",
      "metadata": {
        "id": "view-in-github",
        "colab_type": "text"
      },
      "source": [
        "<a href=\"https://colab.research.google.com/github/bhanu080/bhanu080/blob/main/Exercise_3.ipynb\" target=\"_parent\"><img src=\"https://colab.research.google.com/assets/colab-badge.svg\" alt=\"Open In Colab\"/></a>"
      ]
    },
    {
      "cell_type": "code",
      "execution_count": 3,
      "metadata": {
        "colab": {
          "base_uri": "https://localhost:8080/"
        },
        "id": "xxZMIiCzMN_i",
        "outputId": "35d10c25-8eda-4a1b-ea27-6e938f0e4130"
      },
      "outputs": [
        {
          "output_type": "stream",
          "name": "stdout",
          "text": [
            "10\n",
            "20\n",
            "30\n",
            "40\n",
            "50\n",
            "60\n",
            "70\n"
          ]
        }
      ],
      "source": [
        "1.Create a function in such a way that we can pass any number of arguments to this function, and the function should process them and display each argument’s value \n",
        "def f1(*args):\n",
        "  for i in args:\n",
        "    print(i)\n",
        "\n",
        "f1(10,20,30)\n",
        "f1(40,50,60,70)\n"
      ]
    },
    {
      "cell_type": "code",
      "source": [
        "# 2.Write a program to create function calculation() such that it can accept two variables and calculate addition and subtraction. Also, it must return both addition and subtraction in a single return call.\n",
        "def calculation(a,b):\n",
        "  c=a+b\n",
        "  d=a-b\n",
        "  return c,d\n",
        "\n",
        "res=calculation(50,20)\n",
        "print(res)"
      ],
      "metadata": {
        "colab": {
          "base_uri": "https://localhost:8080/"
        },
        "id": "qT6QktQrMpL6",
        "outputId": "a948745a-290e-4b78-fdc4-c9b3a606ecdc"
      },
      "execution_count": 4,
      "outputs": [
        {
          "output_type": "stream",
          "name": "stdout",
          "text": [
            "(70, 30)\n"
          ]
        }
      ]
    },
    {
      "cell_type": "code",
      "source": [
        "# 3.Write a program to create a function show_employee() using the following conditions. \n",
        "\n",
        "# A)It should accept the employee’s name and salary and display both. \n",
        "\n",
        "# B)If the salary is missing in the function call then assign default value 9000 to salary \n",
        "\n",
        "def show_employee(name,salary=9000):\n",
        "  print(\"Name:\",name,\"Salary:\",salary)\n",
        "\n",
        "show_employee(\"John\")"
      ],
      "metadata": {
        "colab": {
          "base_uri": "https://localhost:8080/"
        },
        "id": "XXzWJMT9Mt-e",
        "outputId": "be292920-834c-4fe3-a331-4dbf3a67cd65"
      },
      "execution_count": 2,
      "outputs": [
        {
          "output_type": "stream",
          "name": "stdout",
          "text": [
            "Name: John Salary: 9000\n"
          ]
        }
      ]
    },
    {
      "cell_type": "code",
      "source": [
        "# 4.Create an outer function that will accept two parameters, a and b,   Create an inner function inside an outer function that will calculate the addition of a and b,  At last, an outer function will add 5 into addition and return it \n",
        "def f1(a,b):\n",
        "  def f2(a,b):\n",
        "    return a+b\n",
        "  res=f2(a,b)+5\n",
        "  return res\n",
        "\n",
        "f1(2,3)\n"
      ],
      "metadata": {
        "colab": {
          "base_uri": "https://localhost:8080/"
        },
        "id": "d3m74-tsM0k5",
        "outputId": "0d993cf4-9d58-4d9d-b868-0d6d6081597b"
      },
      "execution_count": 9,
      "outputs": [
        {
          "output_type": "execute_result",
          "data": {
            "text/plain": [
              "10"
            ]
          },
          "metadata": {},
          "execution_count": 9
        }
      ]
    }
  ]
}