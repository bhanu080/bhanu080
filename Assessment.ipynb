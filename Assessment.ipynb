{
  "nbformat": 4,
  "nbformat_minor": 0,
  "metadata": {
    "colab": {
      "provenance": [],
      "collapsed_sections": [],
      "authorship_tag": "ABX9TyP05e8ooYbnsZiMTPPaELtM",
      "include_colab_link": true
    },
    "kernelspec": {
      "name": "python3",
      "display_name": "Python 3"
    },
    "language_info": {
      "name": "python"
    }
  },
  "cells": [
    {
      "cell_type": "markdown",
      "metadata": {
        "id": "view-in-github",
        "colab_type": "text"
      },
      "source": [
        "<a href=\"https://colab.research.google.com/github/bhanu080/bhanu080/blob/main/Assessment.ipynb\" target=\"_parent\"><img src=\"https://colab.research.google.com/assets/colab-badge.svg\" alt=\"Open In Colab\"/></a>"
      ]
    },
    {
      "cell_type": "code",
      "execution_count": 136,
      "metadata": {
        "colab": {
          "base_uri": "https://localhost:8080/"
        },
        "id": "uzav7BrK37XT",
        "outputId": "f6791bcf-40a1-48d0-bf8d-876c327f41bf"
      },
      "outputs": [
        {
          "output_type": "stream",
          "name": "stdout",
          "text": [
            "Enter the list of numbers:12 35 13 1 5 7  4 16  23 34 234 67 78 67 89  4 8 9 54 65\n",
            "12 35 13 1 5 7  4 16  23 34 234 67 78 67 89  4 8 9 54 65\n",
            "The number to search for:22\n",
            "22  not found.\n"
          ]
        }
      ],
      "source": [
        "# 1.Conduct linear serach after taking a number from the user\n",
        "def linear_search(array,key):\n",
        "    for i in range(len(array)):\n",
        "        if array[i]==key:\n",
        "            return i\n",
        "    return -1\n",
        "\n",
        "array=input(\"Enter the list of numbers:\")\n",
        "print(array)\n",
        "array=array.split()\n",
        "array=[int(x) for x in array]\n",
        "key=int(input('The number to search for:'))\n",
        "\n",
        "index=linear_search(array,key)\n",
        "if index<0:\n",
        "    print('{}  not found.'.format(key))\n",
        "else:\n",
        "    print('{}  found at index {}.'.format(key,index))\n"
      ]
    },
    {
      "cell_type": "code",
      "source": [
        "# 2.Conduct binary search after taking a number from the user\n",
        "\n",
        "from ast import keyword\n",
        "def binary_search(array,start,end,key):\n",
        "    if end>=start:\n",
        "        mid=start+(end-start)//2\n",
        "        if array[mid]==key:\n",
        "            return mid\n",
        "        elif array[mid]>key:\n",
        "            return binary_search(array,start,mid-1,key)\n",
        "        else:\n",
        "            return binary_search(array,mid+1,end,key)\n",
        "    else:\n",
        "        return -1\n",
        "        \n",
        "\n",
        "array=input(\"Enter the list of numbers in ascending order:\")\n",
        "print(array)\n",
        "array=array.split()\n",
        "array=[int(x) for x in array]\n",
        "key=int(input('The number to search for:'))\n",
        "\n",
        "index=binary_search(array,0,len(array)-1,key)\n",
        "if index != -1:\n",
        "    print('{}  found at index {}.'.format(key,index))\n",
        "else:\n",
        "    print('{}  not found.'.format(key))"
      ],
      "metadata": {
        "colab": {
          "base_uri": "https://localhost:8080/"
        },
        "id": "cuFH74Hw9nYF",
        "outputId": "c7b91a05-839a-4314-ff84-577facae9664"
      },
      "execution_count": 177,
      "outputs": [
        {
          "output_type": "stream",
          "name": "stdout",
          "text": [
            "Enter the list of numbers in ascending order:1 2 3 4 5 6 7 8 9 10 11 12 13 14 15 16 17 18 19 20\n",
            "1 2 3 4 5 6 7 8 9 10 11 12 13 14 15 16 17 18 19 20\n",
            "The number to search for:30\n",
            "30  not found.\n"
          ]
        }
      ]
    },
    {
      "cell_type": "code",
      "source": [
        "# 3.Conduct bubble sorting after taking a number from the user\n",
        "\n",
        "array=[]\n",
        "number=int(input(\"Enter the elements:\"))\n",
        "print(number)\n",
        "for i in range(number):\n",
        "    value=int(input(\"Enter the %d array elemets:\"%i))\n",
        "    array.append(value)\n",
        "for i in range(number-1):\n",
        "    for j in range(number-i-1):\n",
        "        if(array[j]>array[j+1]):\n",
        "            temp=array[j]\n",
        "            array[j]=array[j+1]\n",
        "            array[j+1]=temp\n",
        "print(\"The result in sorted order:\",array)"
      ],
      "metadata": {
        "colab": {
          "base_uri": "https://localhost:8080/"
        },
        "id": "Z8tlubmr9zHy",
        "outputId": "ad28ba8d-f5a5-4f47-fcaa-cbc223f6c613"
      },
      "execution_count": 172,
      "outputs": [
        {
          "output_type": "stream",
          "name": "stdout",
          "text": [
            "Enter the elements:20\n",
            "20\n",
            "Enter the 0 array elemets:12\n",
            "Enter the 1 array elemets:35\n",
            "Enter the 2 array elemets:13\n",
            "Enter the 3 array elemets:1\n",
            "Enter the 4 array elemets:5\n",
            "Enter the 5 array elemets:7\n",
            "Enter the 6 array elemets:4\n",
            "Enter the 7 array elemets:16\n",
            "Enter the 8 array elemets:23\n",
            "Enter the 9 array elemets:34\n",
            "Enter the 10 array elemets:234\n",
            "Enter the 11 array elemets:67\n",
            "Enter the 12 array elemets:78\n",
            "Enter the 13 array elemets:67\n",
            "Enter the 14 array elemets:89\n",
            "Enter the 15 array elemets:4\n",
            "Enter the 16 array elemets:8\n",
            "Enter the 17 array elemets:9\n",
            "Enter the 18 array elemets:54\n",
            "Enter the 19 array elemets:65\n",
            "The result in sorted order: [1, 4, 4, 5, 7, 8, 9, 12, 13, 16, 23, 34, 35, 54, 65, 67, 67, 78, 89, 234]\n"
          ]
        }
      ]
    },
    {
      "cell_type": "code",
      "source": [
        "# 4.Explain in a paragraph what is bubble sorting?\n",
        "Bubble sort is a simplest algorithm that works by repeatedly swapping the adjacent elements if they are in the wrong order.\n",
        "Starting from the first index,compare the first and the second elements.If the first element is greater than the second element,they are swapped.\n",
        "Compare the second and the third elements.Swap if they are not in order.The above process continues until a last element "
      ],
      "metadata": {
        "id": "DxJKKGLm91h3"
      },
      "execution_count": null,
      "outputs": []
    },
    {
      "cell_type": "code",
      "source": [
        "# 5.Find mean, median and mode of the dataset.\n",
        "array=input(\"Enter the list of numbers:\")\n",
        "array=array.split()\n",
        "array=[int(x) for x in array]\n",
        "number=len(array)\n",
        "sum1=sum(array)\n",
        "mean=sum1/number\n",
        "print(\"The mean of given elements:\",str(mean))\n",
        "\n",
        "array.sort()\n",
        "if number%2==0:\n",
        "    median1=array[number//2]\n",
        "    median2=array[number//2-1]\n",
        "    median=(median1+median2)/2\n",
        "else:\n",
        "    median=array[number//2]\n",
        "print(\"The median of given elements:\",str(median))\n",
        "\n",
        "from collections import Counter\n",
        "val=Counter(array)\n",
        "findMode=dict(val)\n",
        "mode=[i for i,v in findMode.items() if v==max(list(val.values()))]\n",
        "if len(mode)==number:\n",
        "    findMode=\"The given elements do not have any mode\"\n",
        "else:\n",
        "    findMode=\"The mode of a number is/are:\"+', '.join(map(str,mode))\n",
        "print(findMode)"
      ],
      "metadata": {
        "colab": {
          "base_uri": "https://localhost:8080/"
        },
        "id": "g-amPK9L9496",
        "outputId": "0d9846be-5c14-473b-bbd3-899dec9a8b06"
      },
      "execution_count": 152,
      "outputs": [
        {
          "output_type": "stream",
          "name": "stdout",
          "text": [
            "Enter the list of numbers:12 35 13 1 5 7  4 16  23 34 234 67 78 67 89  4 8 9 54 65\n",
            "The mean of given elements: 41.25\n",
            "The median of given elements: 19.5\n",
            "The mode of a number is/are:4, 67\n"
          ]
        }
      ]
    },
    {
      "cell_type": "code",
      "source": [
        " # 6.Find all prime numbers in the list\n",
        "\n",
        " num=int(input(\"Enter a number:\"))\n",
        " if num >1:\n",
        "   for i in range(2,num):\n",
        "     if(num%i)==0:\n",
        "       print(num,\"is not a prime number\")\n",
        "       break\n",
        "   else:\n",
        "       print(num,\"is a prime number\")\n",
        " else:\n",
        "     print(num,\"is not a prime number\")"
      ],
      "metadata": {
        "colab": {
          "base_uri": "https://localhost:8080/"
        },
        "id": "ag55_FwD9792",
        "outputId": "42eb4bb0-91e4-4b80-e811-ca0c2a5fe2e3"
      },
      "execution_count": 173,
      "outputs": [
        {
          "output_type": "stream",
          "name": "stdout",
          "text": [
            "Enter a number:2\n",
            "2 is a prime number\n"
          ]
        }
      ]
    }
  ]
}