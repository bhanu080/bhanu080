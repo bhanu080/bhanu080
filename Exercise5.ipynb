{
  "nbformat": 4,
  "nbformat_minor": 0,
  "metadata": {
    "colab": {
      "provenance": [],
      "authorship_tag": "ABX9TyMOICk9Pr8+BTrCXrqsbRrW",
      "include_colab_link": true
    },
    "kernelspec": {
      "name": "python3",
      "display_name": "Python 3"
    },
    "language_info": {
      "name": "python"
    }
  },
  "cells": [
    {
      "cell_type": "markdown",
      "metadata": {
        "id": "view-in-github",
        "colab_type": "text"
      },
      "source": [
        "<a href=\"https://colab.research.google.com/github/bhanu080/bhanu080/blob/main/Exercise5.ipynb\" target=\"_parent\"><img src=\"https://colab.research.google.com/assets/colab-badge.svg\" alt=\"Open In Colab\"/></a>"
      ]
    },
    {
      "cell_type": "code",
      "execution_count": 1,
      "metadata": {
        "colab": {
          "base_uri": "https://localhost:8080/"
        },
        "id": "bWDBRphYp13E",
        "outputId": "cec48027-41f6-44c2-cdf4-2b007f4e0591"
      },
      "outputs": [
        {
          "output_type": "stream",
          "name": "stdout",
          "text": [
            "The number of lowercase letters\n",
            "8\n",
            "The number of uppeercase letters\n",
            "2\n"
          ]
        }
      ],
      "source": [
        "# 1. Write a Python function that accepts a string and calculate the number of upper case letters and lower case letters \n",
        "string=\"HelloWorld\"\n",
        "lower=0\n",
        "upper=0\n",
        "for i in string:\n",
        "  if(i.islower()):\n",
        "    lower=lower+1\n",
        "  elif(i.isupper()):\n",
        "    upper=upper+1\n",
        "\n",
        "print(\"The number of lowercase letters\")\n",
        "print(lower)\n",
        "print(\"The number of uppeercase letters\")\n",
        "print(upper)"
      ]
    },
    {
      "cell_type": "code",
      "source": [
        "# 2. Write a Python function to check whether a string is a pangram or not. \n",
        "\n",
        "# Note : Pangrams are words or sentences containing every letter of the alphabet at least once. \n",
        " # For example: \"The quick brown fox jumps over the lazy dog\" \n",
        "  \n",
        "def pangram(str):\n",
        "  string= \"The quick brown fox jumps over the lazy dog\"\n",
        "  for i in string:\n",
        "    if i not in str.lower():\n",
        "      return False\n",
        "  \n",
        "  return True\n",
        "\n",
        "pangram('Hello' )"
      ],
      "metadata": {
        "colab": {
          "base_uri": "https://localhost:8080/"
        },
        "id": "gXjBmbBap98y",
        "outputId": "d1c9937d-a65d-4471-c256-32ab93669703"
      },
      "execution_count": 26,
      "outputs": [
        {
          "output_type": "execute_result",
          "data": {
            "text/plain": [
              "False"
            ]
          },
          "metadata": {},
          "execution_count": 26
        }
      ]
    },
    {
      "cell_type": "code",
      "source": [
        "# 3. Write a Python function that takes a number as a parameter and check the number is prime or not. \n",
        "def prime(n):\n",
        "    if (n==1):\n",
        "        return False\n",
        "    elif (n==2):\n",
        "        return True;\n",
        "    else:\n",
        "        for x in range(2,n):\n",
        "            if(n % x==0):\n",
        "                return False\n",
        "        return True             \n",
        "print(prime(4))"
      ],
      "metadata": {
        "colab": {
          "base_uri": "https://localhost:8080/"
        },
        "id": "vZRmPRT5qD06",
        "outputId": "04b5df57-6d07-444b-c825-850d1f9965a2"
      },
      "execution_count": 4,
      "outputs": [
        {
          "output_type": "stream",
          "name": "stdout",
          "text": [
            "False\n"
          ]
        }
      ]
    },
    {
      "cell_type": "code",
      "source": [
        "# 4. Write a Python function to check whether a number is perfect or not.\n",
        "def perfect_number(n):\n",
        "    sum = 0\n",
        "    for i in range(1, n):\n",
        "        if n % i == 0:\n",
        "            sum=sum+i\n",
        "    return sum == n\n",
        "print(perfect_number(28))\n"
      ],
      "metadata": {
        "colab": {
          "base_uri": "https://localhost:8080/"
        },
        "id": "1uJxSQLFqGxt",
        "outputId": "dd4112ce-d795-432a-d988-f7d2ec0515a0"
      },
      "execution_count": 16,
      "outputs": [
        {
          "output_type": "stream",
          "name": "stdout",
          "text": [
            "True\n"
          ]
        }
      ]
    }
  ]
}