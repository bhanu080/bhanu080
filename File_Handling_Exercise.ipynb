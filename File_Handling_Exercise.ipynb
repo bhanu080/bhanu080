{
  "nbformat": 4,
  "nbformat_minor": 0,
  "metadata": {
    "colab": {
      "provenance": [],
      "authorship_tag": "ABX9TyMVBYjanIUdO32oYyl8Hbzb",
      "include_colab_link": true
    },
    "kernelspec": {
      "name": "python3",
      "display_name": "Python 3"
    },
    "language_info": {
      "name": "python"
    }
  },
  "cells": [
    {
      "cell_type": "markdown",
      "metadata": {
        "id": "view-in-github",
        "colab_type": "text"
      },
      "source": [
        "<a href=\"https://colab.research.google.com/github/bhanu080/bhanu080/blob/main/File_Handling_Exercise.ipynb\" target=\"_parent\"><img src=\"https://colab.research.google.com/assets/colab-badge.svg\" alt=\"Open In Colab\"/></a>"
      ]
    },
    {
      "cell_type": "code",
      "execution_count": 25,
      "metadata": {
        "colab": {
          "base_uri": "https://localhost:8080/"
        },
        "id": "dlj97gVYABMe",
        "outputId": "84acbf68-8b65-41b3-a667-6f6424a8ef5d"
      },
      "outputs": [
        {
          "output_type": "stream",
          "name": "stdout",
          "text": [
            "Overwriting List.txt\n"
          ]
        }
      ],
      "source": [
        "# 1.Implement a program to write a list into a file \n",
        "\n",
        "%%writefile List.txt\n",
        "\n",
        "names = ['Jecinta', 'Joina', 'Jane']"
      ]
    },
    {
      "cell_type": "code",
      "source": [
        "with open('List.txt', 'w') as f:\n",
        "    for n in names:\n",
        "      f.write(\"%s\\n\" %n)"
      ],
      "metadata": {
        "id": "aTqQn8I0uEpP"
      },
      "execution_count": 26,
      "outputs": []
    },
    {
      "cell_type": "code",
      "source": [
        "file = open('List.txt')"
      ],
      "metadata": {
        "id": "kLBl0FRquLEq"
      },
      "execution_count": 27,
      "outputs": []
    },
    {
      "cell_type": "code",
      "source": [
        "print(file.read())"
      ],
      "metadata": {
        "colab": {
          "base_uri": "https://localhost:8080/"
        },
        "id": "Z5kS1HELuPfr",
        "outputId": "1445dba1-8596-494b-9395-6b4496a1b9b7"
      },
      "execution_count": 28,
      "outputs": [
        {
          "output_type": "stream",
          "name": "stdout",
          "text": [
            "Jecinta\n",
            "Jane\n",
            "Joina\n",
            "\n"
          ]
        }
      ]
    },
    {
      "cell_type": "code",
      "source": [
        "# 2.Implement a program to read random line from a file containing lines of data in it(using random library)\n",
        "\n",
        "import random\n",
        "list = open('List.txt').read().splitlines()\n",
        "my_list =random.choice(list)\n",
        "print(my_list)"
      ],
      "metadata": {
        "colab": {
          "base_uri": "https://localhost:8080/"
        },
        "id": "odx0dJNiANfc",
        "outputId": "e8bd2d2a-6d6a-4a5d-f656-4e731d83d029"
      },
      "execution_count": 29,
      "outputs": [
        {
          "output_type": "stream",
          "name": "stdout",
          "text": [
            "Joina\n"
          ]
        }
      ]
    }
  ]
}