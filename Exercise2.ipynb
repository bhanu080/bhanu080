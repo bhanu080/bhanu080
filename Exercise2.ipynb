{
  "nbformat": 4,
  "nbformat_minor": 0,
  "metadata": {
    "colab": {
      "provenance": [],
      "authorship_tag": "ABX9TyMOVrXM7PjXSA8l0CLDH8A5",
      "include_colab_link": true
    },
    "kernelspec": {
      "name": "python3",
      "display_name": "Python 3"
    },
    "language_info": {
      "name": "python"
    }
  },
  "cells": [
    {
      "cell_type": "markdown",
      "metadata": {
        "id": "view-in-github",
        "colab_type": "text"
      },
      "source": [
        "<a href=\"https://colab.research.google.com/github/bhanu080/bhanu080/blob/main/Exercise2.ipynb\" target=\"_parent\"><img src=\"https://colab.research.google.com/assets/colab-badge.svg\" alt=\"Open In Colab\"/></a>"
      ]
    },
    {
      "cell_type": "code",
      "source": [
        "#1. Write a program to take three names as input from a user in the single input() function call. \n",
        "a, b, c = input(\"Enter three Names: \").split()"
      ],
      "metadata": {
        "colab": {
          "base_uri": "https://localhost:8080/"
        },
        "id": "D9lDHdSIcU26",
        "outputId": "a4b4c44d-63cb-4fe4-e7cd-1e5afd4d967a"
      },
      "execution_count": 69,
      "outputs": [
        {
          "name": "stdout",
          "output_type": "stream",
          "text": [
            "Enter three Names: krithi Abhijna Ahana\n"
          ]
        }
      ]
    },
    {
      "cell_type": "code",
      "source": [
        "#2. Write a program to print the following number pattern using a loop. \n",
        "\n",
        "#\t1  \n",
        "\n",
        "#\t1 2 \n",
        "\n",
        "#\t1 2 3 \n",
        "\n",
        " #\t1 2 3 4 \n",
        "\n",
        "# 1 2 3 4 5 \n",
        "\n",
        "n = int(input(\"Enter number of rows: \"))\n",
        "\n",
        "for i in range(1,n+1):\n",
        "    for j in range(1, i+1):\n",
        "        print(j, end=\" \")\n",
        "    print( )\n",
        " "
      ],
      "metadata": {
        "colab": {
          "base_uri": "https://localhost:8080/"
        },
        "id": "D6c2e1eTcW4I",
        "outputId": "fcfd5337-831f-498b-f7d0-a0b4e4b4f34d"
      },
      "execution_count": 47,
      "outputs": [
        {
          "output_type": "stream",
          "name": "stdout",
          "text": [
            "Enter number of rows: 6\n",
            "1 \n",
            "1 2 \n",
            "1 2 3 \n",
            "1 2 3 4 \n",
            "1 2 3 4 5 \n",
            "1 2 3 4 5 6 \n"
          ]
        }
      ]
    },
    {
      "cell_type": "code",
      "source": [
        "# 3. Write a program to accept a number from a user and calculate the sum of all numbers from 1 to a given number\n",
        "n = int(input(\"Enter number:\"))\n",
        "sum = 0\n",
        "for num in range(1, n + 1, 1):\n",
        "    sum = sum + num\n",
        "print(\"Sum of numbers is: \", sum) "
      ],
      "metadata": {
        "colab": {
          "base_uri": "https://localhost:8080/"
        },
        "id": "X-IL3TPKcdBA",
        "outputId": "b15e48e8-3626-4f18-9384-424081cbc3dc"
      },
      "execution_count": 71,
      "outputs": [
        {
          "output_type": "stream",
          "name": "stdout",
          "text": [
            "Enter number:5\n",
            "Sum of numbers is:  15\n"
          ]
        }
      ]
    },
    {
      "cell_type": "code",
      "source": [
        "# 4. Print list in reverse order using a loop\n",
        "l= [1,23,45,65,4,7,9]\n",
        "i = len(l) - 1\n",
        "while i > 0:\n",
        "  print(l[i])\n",
        "  i-=1\n"
      ],
      "metadata": {
        "colab": {
          "base_uri": "https://localhost:8080/"
        },
        "id": "bhZ5giN0clDP",
        "outputId": "0edfd165-89b7-4458-c7c0-5eb956de5207"
      },
      "execution_count": 72,
      "outputs": [
        {
          "output_type": "stream",
          "name": "stdout",
          "text": [
            "9\n",
            "7\n",
            "4\n",
            "65\n",
            "45\n",
            "23\n"
          ]
        }
      ]
    },
    {
      "cell_type": "code",
      "source": [
        "# 5. Write a program to display all prime numbers within a range\n",
        "n=int(input(\"Enter upper limit: \"))\n",
        "for i in range(2,n+1):\n",
        "    k=0\n",
        "    for j in range(2,i//2+1):\n",
        "        if(i%j==0):\n",
        "            k=k+1\n",
        "    if(k<=0):\n",
        "        print(i) "
      ],
      "metadata": {
        "colab": {
          "base_uri": "https://localhost:8080/"
        },
        "id": "tV76DQSPcmX2",
        "outputId": "52bcfd0d-93be-45d1-ab2f-541fada32c26"
      },
      "execution_count": 73,
      "outputs": [
        {
          "output_type": "stream",
          "name": "stdout",
          "text": [
            "Enter upper limit: 100\n",
            "2\n",
            "3\n",
            "5\n",
            "7\n",
            "11\n",
            "13\n",
            "17\n",
            "19\n",
            "23\n",
            "29\n",
            "31\n",
            "37\n",
            "41\n",
            "43\n",
            "47\n",
            "53\n",
            "59\n",
            "61\n",
            "67\n",
            "71\n",
            "73\n",
            "79\n",
            "83\n",
            "89\n",
            "97\n"
          ]
        }
      ]
    },
    {
      "cell_type": "code",
      "source": [
        "# 6. Find the factorial of a given number without math module\n",
        "\n",
        "n = 3\n",
        "fact = 1\n",
        "if n < 0:\n",
        "   print(\" factorial does not exist for negative numbers\")\n",
        "elif n == 0:\n",
        "   print(\"The factorial of 0 is 1\")\n",
        "else:\n",
        "   for i in range(1,n+1):\n",
        "       fact = fact*i\n",
        "   print(\"The factorial of\",n,\"is\",fact)\n",
        "\n"
      ],
      "metadata": {
        "colab": {
          "base_uri": "https://localhost:8080/"
        },
        "id": "moSEaJ64cpUO",
        "outputId": "88bb4fa1-0517-42ea-994c-4c9063fb61f6"
      },
      "execution_count": 74,
      "outputs": [
        {
          "output_type": "stream",
          "name": "stdout",
          "text": [
            "The factorial of 3 is 6\n"
          ]
        }
      ]
    },
    {
      "cell_type": "code",
      "source": [
        "# 7. Print the following pattern \n",
        "\n",
        "#\t* \n",
        "\n",
        "#\t* *  \n",
        "\n",
        "#\t* * * \n",
        "\n",
        "#\t* * * * * \n",
        "\n",
        "#\t* * * * \n",
        "\n",
        "#\t* * * \n",
        "\n",
        "#\t* * \n",
        "\n",
        "#\t* \n",
        "\n",
        "\n",
        "\n",
        "n= int(input(\"Enter the number of Rows = \"))\n",
        "\n",
        "for i in range(n):\n",
        "  for j in range(0, i + 1): \n",
        "    print('*', end= '')\n",
        "\n",
        "  print( )\n",
        "for i in range(1, n):\n",
        "  for j in range(i, n):\n",
        "    print('*', end = '')\n",
        "\n",
        "  print()"
      ],
      "metadata": {
        "colab": {
          "base_uri": "https://localhost:8080/"
        },
        "id": "1LFEQ0l1csS4",
        "outputId": "07e4f49c-e7da-4c97-aecf-326d880e04cd"
      },
      "execution_count": 65,
      "outputs": [
        {
          "output_type": "stream",
          "name": "stdout",
          "text": [
            "Enter the number of Rows = 5\n",
            "*\n",
            "**\n",
            "***\n",
            "****\n",
            "*****\n",
            "****\n",
            "***\n",
            "**\n",
            "*\n"
          ]
        }
      ]
    }
  ]
}