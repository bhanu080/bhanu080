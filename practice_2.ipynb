{
  "nbformat": 4,
  "nbformat_minor": 0,
  "metadata": {
    "colab": {
      "provenance": [],
      "collapsed_sections": [],
      "authorship_tag": "ABX9TyPHaQWrd0M7Os5Sl439LI4e",
      "include_colab_link": true
    },
    "kernelspec": {
      "name": "python3",
      "display_name": "Python 3"
    },
    "language_info": {
      "name": "python"
    }
  },
  "cells": [
    {
      "cell_type": "markdown",
      "metadata": {
        "id": "view-in-github",
        "colab_type": "text"
      },
      "source": [
        "<a href=\"https://colab.research.google.com/github/bhanu080/bhanu080/blob/main/practice_2.ipynb\" target=\"_parent\"><img src=\"https://colab.research.google.com/assets/colab-badge.svg\" alt=\"Open In Colab\"/></a>"
      ]
    },
    {
      "cell_type": "code",
      "execution_count": 133,
      "metadata": {
        "id": "DMZQTJ8thOjU"
      },
      "outputs": [],
      "source": [
        "# List\n",
        "# Tuple\n",
        "# Dict\n",
        "# Set"
      ]
    },
    {
      "cell_type": "markdown",
      "source": [
        "List"
      ],
      "metadata": {
        "id": "YLi8Au8nCe-m"
      }
    },
    {
      "cell_type": "code",
      "source": [
        "# List\n",
        "b=[] #initialising an empty list\n",
        "a=[1,2,\"Neeta\",\"Neetu\",6.8,True,False]"
      ],
      "metadata": {
        "id": "PtaX78bHhYkF"
      },
      "execution_count": 134,
      "outputs": []
    },
    {
      "cell_type": "code",
      "source": [
        "print(a[0])"
      ],
      "metadata": {
        "colab": {
          "base_uri": "https://localhost:8080/"
        },
        "id": "rNEnq69ehqke",
        "outputId": "b040f18d-333a-4f94-a8ee-dbbba96ee2c9"
      },
      "execution_count": 135,
      "outputs": [
        {
          "output_type": "stream",
          "name": "stdout",
          "text": [
            "1\n"
          ]
        }
      ]
    },
    {
      "cell_type": "code",
      "source": [
        "print(a[-1]) #index from right-->last element "
      ],
      "metadata": {
        "colab": {
          "base_uri": "https://localhost:8080/"
        },
        "id": "u4nVRKv0huVq",
        "outputId": "45ae130e-07e1-4463-ca35-f386ba4aaa63"
      },
      "execution_count": 136,
      "outputs": [
        {
          "output_type": "stream",
          "name": "stdout",
          "text": [
            "False\n"
          ]
        }
      ]
    },
    {
      "cell_type": "code",
      "source": [
        "a"
      ],
      "metadata": {
        "colab": {
          "base_uri": "https://localhost:8080/"
        },
        "id": "crYlB1R_h5ul",
        "outputId": "a6a13355-5b51-4ac6-ac7a-6cd8ce679fd9"
      },
      "execution_count": 137,
      "outputs": [
        {
          "output_type": "execute_result",
          "data": {
            "text/plain": [
              "[1, 2, 'Neeta', 'Neetu', 6.8, True, False]"
            ]
          },
          "metadata": {},
          "execution_count": 137
        }
      ]
    },
    {
      "cell_type": "code",
      "source": [
        "c=[1,1,1,0]"
      ],
      "metadata": {
        "id": "fem0QfsiiA27"
      },
      "execution_count": 138,
      "outputs": []
    },
    {
      "cell_type": "code",
      "source": [
        "c"
      ],
      "metadata": {
        "colab": {
          "base_uri": "https://localhost:8080/"
        },
        "id": "sJd56XQkiFKb",
        "outputId": "0e6c986a-1ed0-4cec-b0ee-107a2aeced22"
      },
      "execution_count": 139,
      "outputs": [
        {
          "output_type": "execute_result",
          "data": {
            "text/plain": [
              "[1, 1, 1, 0]"
            ]
          },
          "metadata": {},
          "execution_count": 139
        }
      ]
    },
    {
      "cell_type": "code",
      "source": [
        "a.append(3) #append adds an elements to the list at the end"
      ],
      "metadata": {
        "id": "JWI8Ya1fiHkm"
      },
      "execution_count": 140,
      "outputs": []
    },
    {
      "cell_type": "code",
      "source": [
        "a"
      ],
      "metadata": {
        "colab": {
          "base_uri": "https://localhost:8080/"
        },
        "id": "ow02MJieiSW6",
        "outputId": "1a298d46-f0ae-4a2c-c6a2-3bd140a43827"
      },
      "execution_count": 141,
      "outputs": [
        {
          "output_type": "execute_result",
          "data": {
            "text/plain": [
              "[1, 2, 'Neeta', 'Neetu', 6.8, True, False, 3]"
            ]
          },
          "metadata": {},
          "execution_count": 141
        }
      ]
    },
    {
      "cell_type": "code",
      "source": [
        "a.insert(1,'Tomato')#inserting an element to the list"
      ],
      "metadata": {
        "id": "1w2sT-UEicYI"
      },
      "execution_count": 142,
      "outputs": []
    },
    {
      "cell_type": "code",
      "source": [
        "a\n"
      ],
      "metadata": {
        "colab": {
          "base_uri": "https://localhost:8080/"
        },
        "id": "KLj1S9wuiiS1",
        "outputId": "a0547b9d-fa04-4d9c-8aad-bb762cafe85f"
      },
      "execution_count": 143,
      "outputs": [
        {
          "output_type": "execute_result",
          "data": {
            "text/plain": [
              "[1, 'Tomato', 2, 'Neeta', 'Neetu', 6.8, True, False, 3]"
            ]
          },
          "metadata": {},
          "execution_count": 143
        }
      ]
    },
    {
      "cell_type": "code",
      "source": [
        "a.clear() #clear the elements in the list"
      ],
      "metadata": {
        "id": "LECkrZI4uNVi"
      },
      "execution_count": 144,
      "outputs": []
    },
    {
      "cell_type": "code",
      "source": [
        "a"
      ],
      "metadata": {
        "colab": {
          "base_uri": "https://localhost:8080/"
        },
        "id": "RWHEbUzJuP1P",
        "outputId": "281deaff-9fd8-41ae-ce1b-6eb16bb60129"
      },
      "execution_count": 145,
      "outputs": [
        {
          "output_type": "execute_result",
          "data": {
            "text/plain": [
              "[]"
            ]
          },
          "metadata": {},
          "execution_count": 145
        }
      ]
    },
    {
      "cell_type": "code",
      "source": [
        "a=[1,2,\"Neeta\",\"Neetu\",6.8,True,False]#copying the element\n",
        "b=a.copy()\n",
        "print('Copy:',b)"
      ],
      "metadata": {
        "colab": {
          "base_uri": "https://localhost:8080/"
        },
        "id": "aMoZkQE1uTX1",
        "outputId": "ea09f119-3852-402c-e6e6-496a9cecd4fe"
      },
      "execution_count": 147,
      "outputs": [
        {
          "output_type": "stream",
          "name": "stdout",
          "text": [
            "Copy: [1, 2, 'Neeta', 'Neetu', 6.8, True, False]\n"
          ]
        }
      ]
    },
    {
      "cell_type": "code",
      "source": [
        "a=[1,2,\"Neeta\",\"Neetu\",6.8,True,False,2]"
      ],
      "metadata": {
        "id": "1oApJxaRuZnF"
      },
      "execution_count": 148,
      "outputs": []
    },
    {
      "cell_type": "code",
      "source": [
        "a.count(2) #count the element"
      ],
      "metadata": {
        "colab": {
          "base_uri": "https://localhost:8080/"
        },
        "id": "CL-bHr1ouexs",
        "outputId": "d07c2760-8b43-464b-80b3-983c634d6b35"
      },
      "execution_count": 149,
      "outputs": [
        {
          "output_type": "execute_result",
          "data": {
            "text/plain": [
              "2"
            ]
          },
          "metadata": {},
          "execution_count": 149
        }
      ]
    },
    {
      "cell_type": "code",
      "source": [
        "a.reverse() #reverse the element"
      ],
      "metadata": {
        "id": "GguNxOMFumPW"
      },
      "execution_count": 150,
      "outputs": []
    },
    {
      "cell_type": "code",
      "source": [
        "a"
      ],
      "metadata": {
        "colab": {
          "base_uri": "https://localhost:8080/"
        },
        "id": "p1QY0PcBurjc",
        "outputId": "20d47038-f232-429e-f417-e055582bb88b"
      },
      "execution_count": 151,
      "outputs": [
        {
          "output_type": "execute_result",
          "data": {
            "text/plain": [
              "[2, False, True, 6.8, 'Neetu', 'Neeta', 2, 1]"
            ]
          },
          "metadata": {},
          "execution_count": 151
        }
      ]
    },
    {
      "cell_type": "code",
      "source": [
        "a.remove(1) #remove the element"
      ],
      "metadata": {
        "id": "T7bBskV1uwrG"
      },
      "execution_count": 152,
      "outputs": []
    },
    {
      "cell_type": "code",
      "source": [
        "a"
      ],
      "metadata": {
        "colab": {
          "base_uri": "https://localhost:8080/"
        },
        "id": "h3Atuy9Du1eW",
        "outputId": "938efd14-c393-44b6-c313-7e79c261d6e7"
      },
      "execution_count": 153,
      "outputs": [
        {
          "output_type": "execute_result",
          "data": {
            "text/plain": [
              "[2, False, 6.8, 'Neetu', 'Neeta', 2, 1]"
            ]
          },
          "metadata": {},
          "execution_count": 153
        }
      ]
    },
    {
      "cell_type": "code",
      "source": [
        "a=[1,2,\"Neeta\",\"Neetu\",6.8,True,False] #extend\n",
        "b=[3,4]\n",
        "b.extend(a)"
      ],
      "metadata": {
        "id": "feGUWaFsu7ru"
      },
      "execution_count": 154,
      "outputs": []
    },
    {
      "cell_type": "code",
      "source": [
        "b"
      ],
      "metadata": {
        "colab": {
          "base_uri": "https://localhost:8080/"
        },
        "id": "hSzVtnJYvIlF",
        "outputId": "9c7b06b2-e912-4c4c-b580-23e712469c62"
      },
      "execution_count": 155,
      "outputs": [
        {
          "output_type": "execute_result",
          "data": {
            "text/plain": [
              "[3, 4, 1, 2, 'Neeta', 'Neetu', 6.8, True, False]"
            ]
          },
          "metadata": {},
          "execution_count": 155
        }
      ]
    },
    {
      "cell_type": "code",
      "source": [
        "for i in a:\n",
        "  print(i)"
      ],
      "metadata": {
        "colab": {
          "base_uri": "https://localhost:8080/"
        },
        "id": "L3oyzjxSilsi",
        "outputId": "a7244445-1361-4829-f63c-1956f3030b7c"
      },
      "execution_count": 156,
      "outputs": [
        {
          "output_type": "stream",
          "name": "stdout",
          "text": [
            "1\n",
            "2\n",
            "Neeta\n",
            "Neetu\n",
            "6.8\n",
            "True\n",
            "False\n"
          ]
        }
      ]
    },
    {
      "cell_type": "markdown",
      "source": [
        "Set"
      ],
      "metadata": {
        "id": "S1a0PW-dA1jD"
      }
    },
    {
      "cell_type": "code",
      "source": [
        "#set\n",
        "s={'Banana','Banana',42,False,0,\"Hippo\",'Pikachu',99}"
      ],
      "metadata": {
        "id": "6ZS20ufFi5Q4"
      },
      "execution_count": 198,
      "outputs": []
    },
    {
      "cell_type": "code",
      "source": [
        "s"
      ],
      "metadata": {
        "colab": {
          "base_uri": "https://localhost:8080/"
        },
        "id": "zH-9DT9YjKft",
        "outputId": "d77867b4-82fb-4f6c-8023-76f39a16ce5b"
      },
      "execution_count": 158,
      "outputs": [
        {
          "output_type": "execute_result",
          "data": {
            "text/plain": [
              "{42, 99, 'Banana', False, 'Hippo', 'Pikachu'}"
            ]
          },
          "metadata": {},
          "execution_count": 158
        }
      ]
    },
    {
      "cell_type": "code",
      "source": [
        "s={'Banana','Banana',42,0,False,\"Hippo\",'Pikachu',99}"
      ],
      "metadata": {
        "id": "_vyUXJrdjyRI"
      },
      "execution_count": 159,
      "outputs": []
    },
    {
      "cell_type": "code",
      "source": [
        "s"
      ],
      "metadata": {
        "colab": {
          "base_uri": "https://localhost:8080/"
        },
        "id": "r0YMSPaPj2tw",
        "outputId": "e88e6043-68f9-4b06-e10f-78af9431de03"
      },
      "execution_count": 160,
      "outputs": [
        {
          "output_type": "execute_result",
          "data": {
            "text/plain": [
              "{0, 42, 99, 'Banana', 'Hippo', 'Pikachu'}"
            ]
          },
          "metadata": {},
          "execution_count": 160
        }
      ]
    },
    {
      "cell_type": "code",
      "source": [
        "#unique elements in a set\n",
        "s[-1] #unordered,unindex"
      ],
      "metadata": {
        "colab": {
          "base_uri": "https://localhost:8080/",
          "height": 182
        },
        "id": "tFiZnFlsj34o",
        "outputId": "fe9863cb-bd6b-4abf-a4cd-86919ddb6b87"
      },
      "execution_count": 82,
      "outputs": [
        {
          "output_type": "error",
          "ename": "TypeError",
          "evalue": "ignored",
          "traceback": [
            "\u001b[0;31m---------------------------------------------------------------------------\u001b[0m",
            "\u001b[0;31mTypeError\u001b[0m                                 Traceback (most recent call last)",
            "\u001b[0;32m<ipython-input-82-1d74b3b6c6be>\u001b[0m in \u001b[0;36m<module>\u001b[0;34m\u001b[0m\n\u001b[1;32m      1\u001b[0m \u001b[0;31m#unique elements in a set\u001b[0m\u001b[0;34m\u001b[0m\u001b[0;34m\u001b[0m\u001b[0;34m\u001b[0m\u001b[0m\n\u001b[0;32m----> 2\u001b[0;31m \u001b[0ms\u001b[0m\u001b[0;34m[\u001b[0m\u001b[0;34m-\u001b[0m\u001b[0;36m1\u001b[0m\u001b[0;34m]\u001b[0m \u001b[0;31m#unordered,unindex\u001b[0m\u001b[0;34m\u001b[0m\u001b[0;34m\u001b[0m\u001b[0m\n\u001b[0m",
            "\u001b[0;31mTypeError\u001b[0m: 'set' object is not subscriptable"
          ]
        }
      ]
    },
    {
      "cell_type": "code",
      "source": [
        "s={'Banana','Banana',42,False,0,\"Hippo\",'Pikachu',99}\n",
        "s.remove(42)"
      ],
      "metadata": {
        "id": "DvKsz21xxELt"
      },
      "execution_count": 161,
      "outputs": []
    },
    {
      "cell_type": "code",
      "source": [
        "s"
      ],
      "metadata": {
        "colab": {
          "base_uri": "https://localhost:8080/"
        },
        "id": "dveDqS98xfYD",
        "outputId": "bbbbaf28-90f7-43e9-c8e3-36a1276395c2"
      },
      "execution_count": 162,
      "outputs": [
        {
          "output_type": "execute_result",
          "data": {
            "text/plain": [
              "{99, 'Banana', False, 'Hippo', 'Pikachu'}"
            ]
          },
          "metadata": {},
          "execution_count": 162
        }
      ]
    },
    {
      "cell_type": "code",
      "source": [
        "s.clear()"
      ],
      "metadata": {
        "id": "KvsGB6UEx8HX"
      },
      "execution_count": 163,
      "outputs": []
    },
    {
      "cell_type": "code",
      "source": [
        "s"
      ],
      "metadata": {
        "colab": {
          "base_uri": "https://localhost:8080/"
        },
        "id": "QNkB-KDPyiQb",
        "outputId": "e9159e15-5b47-4a71-f3eb-e76c1d23a91d"
      },
      "execution_count": 192,
      "outputs": [
        {
          "output_type": "execute_result",
          "data": {
            "text/plain": [
              "set()"
            ]
          },
          "metadata": {},
          "execution_count": 192
        }
      ]
    },
    {
      "cell_type": "code",
      "source": [
        "s.remove('Hippo')\n",
        "s"
      ],
      "metadata": {
        "colab": {
          "base_uri": "https://localhost:8080/"
        },
        "id": "-jD3QcAbBqJY",
        "outputId": "7f2c6bba-692a-4b8e-c908-bca0ea597ef0"
      },
      "execution_count": 200,
      "outputs": [
        {
          "output_type": "execute_result",
          "data": {
            "text/plain": [
              "{42, 99, 'Banana', False, 'Pikachu'}"
            ]
          },
          "metadata": {},
          "execution_count": 200
        }
      ]
    },
    {
      "cell_type": "code",
      "source": [
        "# update\n",
        "\n",
        "set1 = {\"p\", \"q\" , \"r\"}\n",
        "set2 = {6, 9, 10}\n",
        "\n",
        "set1.update(set2)\n",
        "print(set1)"
      ],
      "metadata": {
        "colab": {
          "base_uri": "https://localhost:8080/"
        },
        "id": "cNSJiTY3A-P7",
        "outputId": "ee419b82-718a-400e-a009-20b103464e53"
      },
      "execution_count": 196,
      "outputs": [
        {
          "output_type": "stream",
          "name": "stdout",
          "text": [
            "{'p', 6, 'r', 9, 10, 'q'}\n"
          ]
        }
      ]
    },
    {
      "cell_type": "markdown",
      "source": [
        "Tuple"
      ],
      "metadata": {
        "id": "HKh20WEsCjRw"
      }
    },
    {
      "cell_type": "code",
      "source": [
        "#tuple\n",
        "#readonly\n",
        "#once created -> cant be edited\n",
        "t=(1,2,3)"
      ],
      "metadata": {
        "id": "iXCG2UKnkGkT"
      },
      "execution_count": 165,
      "outputs": []
    },
    {
      "cell_type": "code",
      "source": [
        "t"
      ],
      "metadata": {
        "colab": {
          "base_uri": "https://localhost:8080/"
        },
        "id": "IWvnwsJskdb0",
        "outputId": "b4a8e2df-2593-4000-f30e-52aeb4e6e15d"
      },
      "execution_count": 166,
      "outputs": [
        {
          "output_type": "execute_result",
          "data": {
            "text/plain": [
              "(1, 2, 3)"
            ]
          },
          "metadata": {},
          "execution_count": 166
        }
      ]
    },
    {
      "cell_type": "code",
      "source": [
        "t[0],t[-1] #indexed and ordered"
      ],
      "metadata": {
        "colab": {
          "base_uri": "https://localhost:8080/"
        },
        "id": "rjBuaFrwkf7m",
        "outputId": "b928b0f4-1d24-4ea8-d649-f6101ee65569"
      },
      "execution_count": 167,
      "outputs": [
        {
          "output_type": "execute_result",
          "data": {
            "text/plain": [
              "(1, 3)"
            ]
          },
          "metadata": {},
          "execution_count": 167
        }
      ]
    },
    {
      "cell_type": "code",
      "source": [
        "t[1]=\"Pikachu\" #tuple is immutable\n"
      ],
      "metadata": {
        "colab": {
          "base_uri": "https://localhost:8080/",
          "height": 165
        },
        "id": "qsQEsZ5Ykuee",
        "outputId": "7bb9717d-48aa-465f-c66b-caff971bd28c"
      },
      "execution_count": 168,
      "outputs": [
        {
          "output_type": "error",
          "ename": "TypeError",
          "evalue": "ignored",
          "traceback": [
            "\u001b[0;31m---------------------------------------------------------------------------\u001b[0m",
            "\u001b[0;31mTypeError\u001b[0m                                 Traceback (most recent call last)",
            "\u001b[0;32m<ipython-input-168-0d52633cea7c>\u001b[0m in \u001b[0;36m<module>\u001b[0;34m\u001b[0m\n\u001b[0;32m----> 1\u001b[0;31m \u001b[0mt\u001b[0m\u001b[0;34m[\u001b[0m\u001b[0;36m1\u001b[0m\u001b[0;34m]\u001b[0m\u001b[0;34m=\u001b[0m\u001b[0;34m\"Pikachu\"\u001b[0m \u001b[0;31m#tuple is immutable\u001b[0m\u001b[0;34m\u001b[0m\u001b[0;34m\u001b[0m\u001b[0m\n\u001b[0m",
            "\u001b[0;31mTypeError\u001b[0m: 'tuple' object does not support item assignment"
          ]
        }
      ]
    },
    {
      "cell_type": "code",
      "source": [
        "t=(1,2,3)\n",
        "print(t[-1])"
      ],
      "metadata": {
        "colab": {
          "base_uri": "https://localhost:8080/"
        },
        "id": "AgA45s-U8dF7",
        "outputId": "9fcb50c6-50b0-460d-9fb0-5dd010494eba"
      },
      "execution_count": 169,
      "outputs": [
        {
          "output_type": "stream",
          "name": "stdout",
          "text": [
            "3\n"
          ]
        }
      ]
    },
    {
      "cell_type": "code",
      "source": [
        "print(t[:-1])"
      ],
      "metadata": {
        "colab": {
          "base_uri": "https://localhost:8080/"
        },
        "id": "GNrGpIAk85XK",
        "outputId": "5bf13685-db43-46db-8f9e-f708e0551fea"
      },
      "execution_count": 170,
      "outputs": [
        {
          "output_type": "stream",
          "name": "stdout",
          "text": [
            "(1, 2)\n"
          ]
        }
      ]
    },
    {
      "cell_type": "code",
      "source": [
        "print(t[1:])"
      ],
      "metadata": {
        "colab": {
          "base_uri": "https://localhost:8080/"
        },
        "id": "hz7jHE4p9B6i",
        "outputId": "0a6ee182-8b77-4af7-b5da-11759f1a1432"
      },
      "execution_count": 171,
      "outputs": [
        {
          "output_type": "stream",
          "name": "stdout",
          "text": [
            "(2, 3)\n"
          ]
        }
      ]
    },
    {
      "cell_type": "code",
      "source": [
        "print(t[1:3])"
      ],
      "metadata": {
        "colab": {
          "base_uri": "https://localhost:8080/"
        },
        "id": "JLHjH7UI9OBW",
        "outputId": "7a132e3b-600a-4620-a347-89c37ee19809"
      },
      "execution_count": 172,
      "outputs": [
        {
          "output_type": "stream",
          "name": "stdout",
          "text": [
            "(2, 3)\n"
          ]
        }
      ]
    },
    {
      "cell_type": "markdown",
      "source": [
        "Dictionary"
      ],
      "metadata": {
        "id": "HM9lnRUCCleI"
      }
    },
    {
      "cell_type": "code",
      "source": [
        "#dictionary\n",
        "#key value pair ---.keys=indexes and values are elements in my dictionary\n",
        "#sets with indexes\n",
        "d={\"Matrix\":\"Keanu\",\"Devil's Advocate\":\"Keanu\",'Fav Food':\"Samosa\",42:'Life,Earth ,Universe and Everybody'}"
      ],
      "metadata": {
        "id": "H9vyPpLYk_Ti"
      },
      "execution_count": 176,
      "outputs": []
    },
    {
      "cell_type": "code",
      "source": [
        "d['Matrix']"
      ],
      "metadata": {
        "colab": {
          "base_uri": "https://localhost:8080/",
          "height": 36
        },
        "id": "o-_Rhu8MmXxu",
        "outputId": "065dad92-9b95-42bb-c391-6c95455e6efb"
      },
      "execution_count": 177,
      "outputs": [
        {
          "output_type": "execute_result",
          "data": {
            "text/plain": [
              "'Keanu'"
            ],
            "application/vnd.google.colaboratory.intrinsic+json": {
              "type": "string"
            }
          },
          "metadata": {},
          "execution_count": 177
        }
      ]
    },
    {
      "cell_type": "code",
      "source": [
        "d[42]"
      ],
      "metadata": {
        "colab": {
          "base_uri": "https://localhost:8080/",
          "height": 36
        },
        "id": "1YebprUAmbGV",
        "outputId": "d6fbd3c2-3714-46b0-93db-195913c39d24"
      },
      "execution_count": 178,
      "outputs": [
        {
          "output_type": "execute_result",
          "data": {
            "text/plain": [
              "'Life,Earth ,Universe and Everybody'"
            ],
            "application/vnd.google.colaboratory.intrinsic+json": {
              "type": "string"
            }
          },
          "metadata": {},
          "execution_count": 178
        }
      ]
    },
    {
      "cell_type": "code",
      "source": [
        "d[3,14]=\"Value of Pi\" #Element got inserted"
      ],
      "metadata": {
        "id": "Ve8WA7MPmeVY"
      },
      "execution_count": 179,
      "outputs": []
    },
    {
      "cell_type": "code",
      "source": [
        "d"
      ],
      "metadata": {
        "colab": {
          "base_uri": "https://localhost:8080/"
        },
        "id": "lklqc3yOmm6-",
        "outputId": "12117ac4-1d3d-483e-880c-1073c12714ab"
      },
      "execution_count": 180,
      "outputs": [
        {
          "output_type": "execute_result",
          "data": {
            "text/plain": [
              "{'Matrix': 'Keanu',\n",
              " \"Devil's Advocate\": 'Keanu',\n",
              " 'Fav Food': 'Samosa',\n",
              " 42: 'Life,Earth ,Universe and Everybody',\n",
              " (3, 14): 'Value of Pi'}"
            ]
          },
          "metadata": {},
          "execution_count": 180
        }
      ]
    },
    {
      "cell_type": "code",
      "source": [
        "#dictionary is 2 separate list-->keys and values\n",
        "for k,v in d.items():\n",
        "  print('Key=',k,end=',')\n",
        "  print('Value=',v)"
      ],
      "metadata": {
        "colab": {
          "base_uri": "https://localhost:8080/"
        },
        "id": "x3r5J_92mpZD",
        "outputId": "a5b22f7e-5c76-4d29-afa4-8543ac5584ad"
      },
      "execution_count": 182,
      "outputs": [
        {
          "output_type": "stream",
          "name": "stdout",
          "text": [
            "Key= Matrix,Value= Keanu\n",
            "Key= Devil's Advocate,Value= Keanu\n",
            "Key= Fav Food,Value= Samosa\n",
            "Key= 42,Value= Life,Earth ,Universe and Everybody\n",
            "Key= (3, 14),Value= Value of Pi\n"
          ]
        }
      ]
    },
    {
      "cell_type": "code",
      "source": [
        "d.items()"
      ],
      "metadata": {
        "colab": {
          "base_uri": "https://localhost:8080/"
        },
        "id": "Dtcl2WUtnQ_y",
        "outputId": "4d19282d-addd-4bec-d4fe-e3b5fb86902e"
      },
      "execution_count": 183,
      "outputs": [
        {
          "output_type": "execute_result",
          "data": {
            "text/plain": [
              "dict_items([('Matrix', 'Keanu'), (\"Devil's Advocate\", 'Keanu'), ('Fav Food', 'Samosa'), (42, 'Life,Earth ,Universe and Everybody'), ((3, 14), 'Value of Pi')])"
            ]
          },
          "metadata": {},
          "execution_count": 183
        }
      ]
    },
    {
      "cell_type": "code",
      "source": [
        "dir(d) # will show all possible actions and properties ogf list"
      ],
      "metadata": {
        "colab": {
          "base_uri": "https://localhost:8080/"
        },
        "id": "P7ugyQtSnUEw",
        "outputId": "750df508-03da-4192-f660-609905928fea"
      },
      "execution_count": 184,
      "outputs": [
        {
          "output_type": "execute_result",
          "data": {
            "text/plain": [
              "['__class__',\n",
              " '__contains__',\n",
              " '__delattr__',\n",
              " '__delitem__',\n",
              " '__dir__',\n",
              " '__doc__',\n",
              " '__eq__',\n",
              " '__format__',\n",
              " '__ge__',\n",
              " '__getattribute__',\n",
              " '__getitem__',\n",
              " '__gt__',\n",
              " '__hash__',\n",
              " '__init__',\n",
              " '__init_subclass__',\n",
              " '__iter__',\n",
              " '__le__',\n",
              " '__len__',\n",
              " '__lt__',\n",
              " '__ne__',\n",
              " '__new__',\n",
              " '__reduce__',\n",
              " '__reduce_ex__',\n",
              " '__repr__',\n",
              " '__setattr__',\n",
              " '__setitem__',\n",
              " '__sizeof__',\n",
              " '__str__',\n",
              " '__subclasshook__',\n",
              " 'clear',\n",
              " 'copy',\n",
              " 'fromkeys',\n",
              " 'get',\n",
              " 'items',\n",
              " 'keys',\n",
              " 'pop',\n",
              " 'popitem',\n",
              " 'setdefault',\n",
              " 'update',\n",
              " 'values']"
            ]
          },
          "metadata": {},
          "execution_count": 184
        }
      ]
    },
    {
      "cell_type": "code",
      "source": [
        "num=[1,77,42,30,0,-66]\n",
        "num.sort()"
      ],
      "metadata": {
        "id": "-HRDsboMnjbc"
      },
      "execution_count": 185,
      "outputs": []
    },
    {
      "cell_type": "code",
      "source": [
        "num"
      ],
      "metadata": {
        "colab": {
          "base_uri": "https://localhost:8080/"
        },
        "id": "GrhL5DH9n_Ub",
        "outputId": "61d2113e-e849-4206-ea9b-ba618aa938e2"
      },
      "execution_count": 186,
      "outputs": [
        {
          "output_type": "execute_result",
          "data": {
            "text/plain": [
              "[-66, 0, 1, 30, 42, 77]"
            ]
          },
          "metadata": {},
          "execution_count": 186
        }
      ]
    },
    {
      "cell_type": "code",
      "source": [
        "num.reverse()"
      ],
      "metadata": {
        "id": "30hd0IANoBaA"
      },
      "execution_count": 187,
      "outputs": []
    },
    {
      "cell_type": "code",
      "source": [
        "num"
      ],
      "metadata": {
        "colab": {
          "base_uri": "https://localhost:8080/"
        },
        "id": "BSdF0bJsoGiP",
        "outputId": "a0de50bd-a0ad-48b5-af64-cd06ddbb32b5"
      },
      "execution_count": 188,
      "outputs": [
        {
          "output_type": "execute_result",
          "data": {
            "text/plain": [
              "[77, 42, 30, 1, 0, -66]"
            ]
          },
          "metadata": {},
          "execution_count": 188
        }
      ]
    },
    {
      "cell_type": "code",
      "source": [
        "num.append(1)\n",
        "num"
      ],
      "metadata": {
        "colab": {
          "base_uri": "https://localhost:8080/"
        },
        "id": "bKZapHqOoI1U",
        "outputId": "b21af475-f0dd-427c-df46-89f9b4c0a169"
      },
      "execution_count": 189,
      "outputs": [
        {
          "output_type": "execute_result",
          "data": {
            "text/plain": [
              "[77, 42, 30, 1, 0, -66, 1]"
            ]
          },
          "metadata": {},
          "execution_count": 189
        }
      ]
    },
    {
      "cell_type": "code",
      "source": [
        "num.count(1)"
      ],
      "metadata": {
        "colab": {
          "base_uri": "https://localhost:8080/"
        },
        "id": "Fln8v22lohRg",
        "outputId": "4d352058-86e3-499e-eaee-e455fca2968f"
      },
      "execution_count": 191,
      "outputs": [
        {
          "output_type": "execute_result",
          "data": {
            "text/plain": [
              "2"
            ]
          },
          "metadata": {},
          "execution_count": 191
        }
      ]
    }
  ]
}