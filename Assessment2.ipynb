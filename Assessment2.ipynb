{
  "nbformat": 4,
  "nbformat_minor": 0,
  "metadata": {
    "colab": {
      "provenance": [],
      "collapsed_sections": [],
      "authorship_tag": "ABX9TyMnO1/zOqPOb/PCpG3APO+l",
      "include_colab_link": true
    },
    "kernelspec": {
      "name": "python3",
      "display_name": "Python 3"
    },
    "language_info": {
      "name": "python"
    }
  },
  "cells": [
    {
      "cell_type": "markdown",
      "metadata": {
        "id": "view-in-github",
        "colab_type": "text"
      },
      "source": [
        "<a href=\"https://colab.research.google.com/github/bhanu080/bhanu080/blob/main/Assessment2.ipynb\" target=\"_parent\"><img src=\"https://colab.research.google.com/assets/colab-badge.svg\" alt=\"Open In Colab\"/></a>"
      ]
    },
    {
      "cell_type": "code",
      "execution_count": 14,
      "metadata": {
        "colab": {
          "base_uri": "https://localhost:8080/"
        },
        "id": "TJR5C7h76XDJ",
        "outputId": "8b221312-9510-46cc-d7b3-561388f85d3e"
      },
      "outputs": [
        {
          "output_type": "stream",
          "name": "stdout",
          "text": [
            "First Name: Bhavana\n",
            "Last Name : K V\n",
            "Hobby : Travelling\n",
            "Phone Number: 99999 99999\n"
          ]
        }
      ],
      "source": [
        "# Assesment-2:\n",
        "# Design a linked list, where every node contains firstname,lastname, hobby and phone number.\n",
        "# Write functions to perform the following:\n",
        "\n",
        " # 1.Add new element to the list.\n",
        "\n",
        " \n",
        "class Node:\n",
        "  \n",
        "    def __init__(self, data):\n",
        "        self.data = data  \n",
        "        self.next = None  \n",
        "  \n",
        "class LinkedList:\n",
        "  \n",
        "    def __init__(self):\n",
        "        self.head = None\n",
        "  \n",
        "    def printList(self):\n",
        "        temp = self.head\n",
        "        while (temp):\n",
        "            print(temp.data)\n",
        "            temp = temp.next\n",
        "  \n",
        "    \n",
        "llist = LinkedList()\n",
        "  \n",
        "llist.head = Node(\"First Name: Bhavana\")\n",
        "second = Node(\"Last Name : K V\")\n",
        "third = Node(\"Hobby : Travelling\")\n",
        "fourth = Node(\"Phone Number: 99999 99999\")\n",
        "\n",
        "  \n",
        "llist.head.next = second  \n",
        "second.next = third  \n",
        "third.next = fourth\n",
        "  \n",
        "llist.printList()\n"
      ]
    },
    {
      "cell_type": "code",
      "source": [
        "# 2.Search and Rename an element from the list\n",
        "\n",
        "\n",
        "class Node:\n",
        "  \n",
        "   \n",
        "    def __init__(self, data):\n",
        "        self.data = data  # Assign data\n",
        "        self.next = None  # Initialize next as null\n",
        "  \n",
        "  \n",
        "\n",
        "class LinkedList:\n",
        "  \n",
        "    def __init__(self):\n",
        "        self.head = None\n",
        "  \n",
        "   \n",
        "    def printList(self):\n",
        "        temp = self.head\n",
        "        while (temp):\n",
        "            print(temp.data)\n",
        "            temp = temp.next\n",
        "  \n",
        "  \n",
        "\n",
        "  \n",
        "   \n",
        "llist = LinkedList()\n",
        "  \n",
        "llist.head = Node(\"First Name: Bhavana\")\n",
        "second = Node(\"Last Name : K V\")\n",
        "third = Node(\"Hobby : Travelling\")\n",
        "fourth = Node(\"Phone Number: 99999 99999\")\n",
        "fifth = Node(\"Address : XYZ\")\n",
        "\n",
        "  \n",
        "llist.head.next = second  \n",
        "second.next = third  \n",
        "third.next = fourth\n",
        "fourth.next = fifth\n",
        "  \n",
        "llist.printList()"
      ],
      "metadata": {
        "colab": {
          "base_uri": "https://localhost:8080/"
        },
        "id": "m2XZqK6RQttM",
        "outputId": "bde27779-cb97-4c16-b302-06f9488eb07a"
      },
      "execution_count": 15,
      "outputs": [
        {
          "output_type": "stream",
          "name": "stdout",
          "text": [
            "First Name: Bhavana\n",
            "Last Name : K V\n",
            "Hobby : Travelling\n",
            "Phone Number: 99999 99999\n",
            "Address : XYZ\n"
          ]
        }
      ]
    },
    {
      "cell_type": "code",
      "source": [
        "# 3.Perform deduplication-means all duplicates should be removed\n",
        "\n",
        "class Node:\n",
        " \n",
        "   \n",
        "    def __init__(self, data):\n",
        "        self.data = data  \n",
        "        self.next = None  \n",
        " \n",
        "\n",
        " \n",
        " \n",
        "class LinkedList:\n",
        "    def __init__(self):\n",
        "        self.head = None  \n",
        " \n",
        "   \n",
        "    def push(self, new_data):\n",
        " \n",
        "       \n",
        "        new_node = Node(new_data)\n",
        " \n",
        "     \n",
        "        new_node.next = self.head\n",
        " \n",
        "      \n",
        "        self.head = new_node\n",
        "    \n",
        "\n",
        "    def search(self, x):\n",
        " \n",
        "        \n",
        "        current = self.head\n",
        " \n",
        "       \n",
        "        while current != None:\n",
        "            if current.data == x:\n",
        "                return True  # data found\n",
        "            \n",
        "            current.data = \"Aradya\"\n",
        "            current = current.next\n",
        " \n",
        "        return False \n",
        "llist = LinkedList()\n",
        "  \n",
        "llist.head = Node(\"First Name: Bhavana\")\n",
        "second = Node(\"Last Name : K V\")\n",
        "third = Node(\"Hobby : Travelling\")\n",
        "fourth = Node(\"Phone Number: 99999 99999\")\n",
        "\n",
        "  \n",
        "llist.head.next = second  \n",
        "second.next = third  \n",
        "third.next = fourth\n",
        "\n",
        "if llist.search(\"Last Name : K V\"):\n",
        "        print(\"Last Name : Aradya\")\n",
        "else:\n",
        "  print(\"No\")\n"
      ],
      "metadata": {
        "colab": {
          "base_uri": "https://localhost:8080/"
        },
        "id": "odQwK5S1QxEm",
        "outputId": "e10f8c5b-7976-4676-eeb8-f7a4b5717b4a"
      },
      "execution_count": 16,
      "outputs": [
        {
          "output_type": "stream",
          "name": "stdout",
          "text": [
            "Last Name : Aradya\n"
          ]
        }
      ]
    },
    {
      "cell_type": "code",
      "source": [
        "# 4.Reverse the list\n",
        "\n",
        "class Node:\n",
        "  \n",
        "   \n",
        "    def __init__(self, data):\n",
        "        self.data = data\n",
        "        self.next = None\n",
        "  \n",
        "  \n",
        "class LinkedList:\n",
        "  \n",
        "    \n",
        "    def __init__(self):\n",
        "        self.head = None\n",
        "  \n",
        "   \n",
        "    def reverse(self):\n",
        "        prev = None\n",
        "        current = self.head\n",
        "        while(current is not None):\n",
        "            next = current.next\n",
        "            current.next = prev\n",
        "            prev = current\n",
        "            current = next\n",
        "        self.head = prev\n",
        "  \n",
        "   \n",
        "    def push(self, new_data):\n",
        "        new_node = Node(new_data)\n",
        "        new_node.next = self.head\n",
        "        self.head = new_node\n",
        "  \n",
        "    \n",
        "    def printList(self):\n",
        "        temp = self.head\n",
        "        while(temp):\n",
        "            print (temp.data,end=\" \")\n",
        "            temp = temp.next\n",
        "  \n",
        "\n",
        "  \n",
        "\n",
        "llist = LinkedList()\n",
        "llist.push(\"First Name:Bhavana\")\n",
        "llist.push(\"Last Name:K V\")\n",
        "llist.push(\"Address:XYZ\")\n",
        "llist.push(\"Phone:88888 35353\")\n",
        "  \n",
        "print (\"Given Linked List\")\n",
        "llist.printList()\n",
        "llist.reverse()\n",
        "print (\"\\nReversed Linked List\")\n",
        "llist.printList()"
      ],
      "metadata": {
        "colab": {
          "base_uri": "https://localhost:8080/"
        },
        "id": "KeBd2AO8Qy2t",
        "outputId": "c7a524b5-117c-435d-e5fa-fd2db3660728"
      },
      "execution_count": 17,
      "outputs": [
        {
          "output_type": "stream",
          "name": "stdout",
          "text": [
            "Given Linked List\n",
            "Phone:88888 35353 Address:XYZ Last Name:K V First Name:Bhavana \n",
            "Reversed Linked List\n",
            "First Name:Bhavana Last Name:K V Address:XYZ Phone:88888 35353 "
          ]
        }
      ]
    }
  ]
}