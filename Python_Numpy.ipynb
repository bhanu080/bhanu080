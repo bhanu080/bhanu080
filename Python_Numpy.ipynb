{
  "nbformat": 4,
  "nbformat_minor": 0,
  "metadata": {
    "colab": {
      "provenance": [],
      "collapsed_sections": [],
      "authorship_tag": "ABX9TyPBN8gZ7w3u0GeJ6QGplYKu",
      "include_colab_link": true
    },
    "kernelspec": {
      "name": "python3",
      "display_name": "Python 3"
    },
    "language_info": {
      "name": "python"
    }
  },
  "cells": [
    {
      "cell_type": "markdown",
      "metadata": {
        "id": "view-in-github",
        "colab_type": "text"
      },
      "source": [
        "<a href=\"https://colab.research.google.com/github/bhanu080/bhanu080/blob/main/Python_Numpy.ipynb\" target=\"_parent\"><img src=\"https://colab.research.google.com/assets/colab-badge.svg\" alt=\"Open In Colab\"/></a>"
      ]
    },
    {
      "cell_type": "markdown",
      "source": [
        " Import numpy"
      ],
      "metadata": {
        "id": "M-2tJi5YUfAv"
      }
    },
    {
      "cell_type": "code",
      "execution_count": 1,
      "metadata": {
        "id": "oZhV16vcUUyY"
      },
      "outputs": [],
      "source": [
        "import numpy as np\n"
      ]
    },
    {
      "cell_type": "markdown",
      "source": [
        "define a Python list containing the ages of 6 people."
      ],
      "metadata": {
        "id": "ZzXPYQb9U7O_"
      }
    },
    {
      "cell_type": "code",
      "source": [
        "ages_list = [10, 5, 8, 32, 65, 43]\n",
        "print(ages_list)"
      ],
      "metadata": {
        "colab": {
          "base_uri": "https://localhost:8080/"
        },
        "id": "DjdaYph6U1Se",
        "outputId": "9aca29a5-37af-4aff-95b9-52a34dd189c8"
      },
      "execution_count": 2,
      "outputs": [
        {
          "output_type": "stream",
          "name": "stdout",
          "text": [
            "[10, 5, 8, 32, 65, 43]\n"
          ]
        }
      ]
    },
    {
      "cell_type": "markdown",
      "source": [
        "There are 3 main ways to instantiate a Numpy ndarray object. One of these is to use np.array(<collection>)"
      ],
      "metadata": {
        "id": "pYt54dlfVG9y"
      }
    },
    {
      "cell_type": "code",
      "source": [
        "ages = np.array(ages_list)\n",
        "print(type(ages))\n",
        "print(ages)"
      ],
      "metadata": {
        "colab": {
          "base_uri": "https://localhost:8080/"
        },
        "id": "INLDMCiaVV6z",
        "outputId": "11780f72-3fdf-45e2-b362-e93aa41ced37"
      },
      "execution_count": 3,
      "outputs": [
        {
          "output_type": "stream",
          "name": "stdout",
          "text": [
            "<class 'numpy.ndarray'>\n",
            "[10  5  8 32 65 43]\n"
          ]
        }
      ]
    },
    {
      "cell_type": "code",
      "source": [
        "print(ages)\n",
        "print(\"Size:\\t\" , ages.size)\n",
        "print(\"Shape:\\t\", ages.shape)"
      ],
      "metadata": {
        "colab": {
          "base_uri": "https://localhost:8080/"
        },
        "id": "wNFLiyemWet9",
        "outputId": "899b1e2c-5862-4261-9b96-f5d1f29cea4f"
      },
      "execution_count": 4,
      "outputs": [
        {
          "output_type": "stream",
          "name": "stdout",
          "text": [
            "[10  5  8 32 65 43]\n",
            "Size:\t 6\n",
            "Shape:\t (6,)\n"
          ]
        }
      ]
    },
    {
      "cell_type": "code",
      "source": [
        "zeroArr = np.zeros(5)\n",
        "print(zeroArr)"
      ],
      "metadata": {
        "colab": {
          "base_uri": "https://localhost:8080/"
        },
        "id": "Rlpb4A33Wmt3",
        "outputId": "fce405d1-04b1-45cc-e4f2-f5f8bdfbac7f"
      },
      "execution_count": 5,
      "outputs": [
        {
          "output_type": "stream",
          "name": "stdout",
          "text": [
            "[0. 0. 0. 0. 0.]\n"
          ]
        }
      ]
    },
    {
      "cell_type": "markdown",
      "source": [
        "Multi-dimension\n"
      ],
      "metadata": {
        "id": "Y1uKxn9lWsSa"
      }
    },
    {
      "cell_type": "markdown",
      "source": [
        "define a new list containing the weights of these 6 people."
      ],
      "metadata": {
        "id": "YnpM4s4WWumh"
      }
    },
    {
      "cell_type": "code",
      "source": [
        "weight_list = [32, 18, 26, 60, 55, 65]"
      ],
      "metadata": {
        "id": "9bv5ahkjWyni"
      },
      "execution_count": 6,
      "outputs": []
    },
    {
      "cell_type": "markdown",
      "source": [
        "define an ndarray containing all fo this information, and again print the size and shape of the array."
      ],
      "metadata": {
        "id": "AkCve0TcW6fr"
      }
    },
    {
      "cell_type": "code",
      "source": [
        "people = np.array([ages_list, weight_list])\n",
        "\n",
        "print(\"People:\\t\" , people)\n",
        "print(\"Size:\\t\" , people.size)\n",
        "print(\"Shape:\\t\", people.shape)"
      ],
      "metadata": {
        "colab": {
          "base_uri": "https://localhost:8080/"
        },
        "id": "1Z_WigwQW7XB",
        "outputId": "a9a9d227-6448-485b-e0c1-713c04a50356"
      },
      "execution_count": 7,
      "outputs": [
        {
          "output_type": "stream",
          "name": "stdout",
          "text": [
            "People:\t [[10  5  8 32 65 43]\n",
            " [32 18 26 60 55 65]]\n",
            "Size:\t 12\n",
            "Shape:\t (2, 6)\n"
          ]
        }
      ]
    },
    {
      "cell_type": "code",
      "source": [
        "# 2 X 6 = 1 X 12 = 4 X 3 = 3 X 4 = 12 X 1 \n",
        "# /t --> horizontal space\n",
        "\n",
        "people = people.reshape(12,1)\n",
        "print(\"People:\\t\" , people)\n",
        "print(\"Size:\\t\" , people.size)\n",
        "print(\"Shape:\\t\", people.shape)"
      ],
      "metadata": {
        "colab": {
          "base_uri": "https://localhost:8080/"
        },
        "id": "TOulYlXuXZtk",
        "outputId": "8654aaa6-74fb-461e-907b-7f069fd17f7c"
      },
      "execution_count": 8,
      "outputs": [
        {
          "output_type": "stream",
          "name": "stdout",
          "text": [
            "People:\t [[10]\n",
            " [ 5]\n",
            " [ 8]\n",
            " [32]\n",
            " [65]\n",
            " [43]\n",
            " [32]\n",
            " [18]\n",
            " [26]\n",
            " [60]\n",
            " [55]\n",
            " [65]]\n",
            "Size:\t 12\n",
            "Shape:\t (12, 1)\n"
          ]
        }
      ]
    },
    {
      "cell_type": "markdown",
      "source": [
        "\n",
        "Note: The new shape must be the same \"size\" as the old shape"
      ],
      "metadata": {
        "id": "I49EFse5XpIE"
      }
    },
    {
      "cell_type": "markdown",
      "source": [
        "Exercise"
      ],
      "metadata": {
        "id": "IstUp0ChXs0r"
      }
    },
    {
      "cell_type": "code",
      "source": [
        "# Generate a 1D numpy array with the values [7, 9, 65, 33, 85, 99]\n",
        "\n",
        "list=[7, 9, 65, 33, 85, 99]\n",
        "print(list)\n"
      ],
      "metadata": {
        "colab": {
          "base_uri": "https://localhost:8080/"
        },
        "id": "89hPCharXt_U",
        "outputId": "a5f774cb-01bd-40c0-8a96-02fc719cd6fb"
      },
      "execution_count": 9,
      "outputs": [
        {
          "output_type": "stream",
          "name": "stdout",
          "text": [
            "[7, 9, 65, 33, 85, 99]\n"
          ]
        }
      ]
    },
    {
      "cell_type": "code",
      "source": [
        "# Generate a matrix (2D numpy array) of the values:\n",
        "arr=np.array([[1,2,4],  [2,3,0], [0,5,1]])\n",
        "print(arr)\n"
      ],
      "metadata": {
        "id": "l3hBS8jwYOVV",
        "colab": {
          "base_uri": "https://localhost:8080/"
        },
        "outputId": "333da872-cce2-4403-b86a-8166194ebfcb"
      },
      "execution_count": 10,
      "outputs": [
        {
          "output_type": "stream",
          "name": "stdout",
          "text": [
            "[[1 2 4]\n",
            " [2 3 0]\n",
            " [0 5 1]]\n"
          ]
        }
      ]
    },
    {
      "cell_type": "code",
      "source": [
        "# Change the dimensions of this array to another permitted shape\n",
        "arr=np.array([[1,2,4],  [2,3,0], [0,5,1]])\n",
        "print(\"Changing shape to 3,6\")\n",
        "print(arr.shape)"
      ],
      "metadata": {
        "id": "OQ85Vt2TYRfl",
        "colab": {
          "base_uri": "https://localhost:8080/"
        },
        "outputId": "0a60c7ac-e326-4b1e-b75e-37a1f3b9d6ba"
      },
      "execution_count": 11,
      "outputs": [
        {
          "output_type": "stream",
          "name": "stdout",
          "text": [
            "Changing shape to 3,6\n",
            "(3, 3)\n"
          ]
        }
      ]
    },
    {
      "cell_type": "markdown",
      "source": [
        "Array Generation"
      ],
      "metadata": {
        "id": "uuLMMyjqcTl8"
      }
    },
    {
      "cell_type": "markdown",
      "source": [
        "Instead of defining an array manually, we can ask numpy to do it for us."
      ],
      "metadata": {
        "id": "oliPsh5DcXfh"
      }
    },
    {
      "cell_type": "markdown",
      "source": [
        "The np.arange() method creates a range of numbers with user defined steps between each."
      ],
      "metadata": {
        "id": "-TGb9JJEcczm"
      }
    },
    {
      "cell_type": "code",
      "source": [
        "five_times_table = np.arange(0, 55, 5)\n",
        "five_times_table"
      ],
      "metadata": {
        "id": "bDmaJZqUcS4f",
        "colab": {
          "base_uri": "https://localhost:8080/"
        },
        "outputId": "0f6a4852-ad52-41ac-fbca-7860de8f3bf3"
      },
      "execution_count": 12,
      "outputs": [
        {
          "output_type": "execute_result",
          "data": {
            "text/plain": [
              "array([ 0,  5, 10, 15, 20, 25, 30, 35, 40, 45, 50])"
            ]
          },
          "metadata": {},
          "execution_count": 12
        }
      ]
    },
    {
      "cell_type": "markdown",
      "source": [
        "he np.linspace() method will produce a range of evenly spaced values, starting, ending, and taking as many steps as you specify."
      ],
      "metadata": {
        "id": "2Z79YU-KdNFz"
      }
    },
    {
      "cell_type": "code",
      "source": [
        "five_spaced = np.linspace(0,50,11)\n",
        "print(five_spaced)"
      ],
      "metadata": {
        "id": "v15m0obhdOyk",
        "colab": {
          "base_uri": "https://localhost:8080/"
        },
        "outputId": "526243d2-87c4-472a-cfe2-21d38f87ae17"
      },
      "execution_count": 13,
      "outputs": [
        {
          "output_type": "stream",
          "name": "stdout",
          "text": [
            "[ 0.  5. 10. 15. 20. 25. 30. 35. 40. 45. 50.]\n"
          ]
        }
      ]
    },
    {
      "cell_type": "markdown",
      "source": [
        "The .repeat() method will repeat an object you pas a specified number of times."
      ],
      "metadata": {
        "id": "dvg1EA-9fu-4"
      }
    },
    {
      "cell_type": "code",
      "source": [
        "twoArr = np.repeat(2, 10)\n",
        "print(twoArr)"
      ],
      "metadata": {
        "id": "s9LORcxwfv4A",
        "colab": {
          "base_uri": "https://localhost:8080/"
        },
        "outputId": "a6f2f6be-948c-46c6-c5f0-b63e4320eeed"
      },
      "execution_count": 14,
      "outputs": [
        {
          "output_type": "stream",
          "name": "stdout",
          "text": [
            "[2 2 2 2 2 2 2 2 2 2]\n"
          ]
        }
      ]
    },
    {
      "cell_type": "markdown",
      "source": [
        "The np.eye() functions will create an identity matrix/array for us."
      ],
      "metadata": {
        "id": "CHdDJhU7f06F"
      }
    },
    {
      "cell_type": "code",
      "source": [
        "identity_matrix = np.eye(5)\n",
        "print(identity_matrix)"
      ],
      "metadata": {
        "id": "MErhH917f2oL",
        "colab": {
          "base_uri": "https://localhost:8080/"
        },
        "outputId": "a7326d56-6ec6-4e53-9df8-ccb0f54150b3"
      },
      "execution_count": 15,
      "outputs": [
        {
          "output_type": "stream",
          "name": "stdout",
          "text": [
            "[[1. 0. 0. 0. 0.]\n",
            " [0. 1. 0. 0. 0.]\n",
            " [0. 0. 1. 0. 0.]\n",
            " [0. 0. 0. 1. 0.]\n",
            " [0. 0. 0. 0. 1.]]\n"
          ]
        }
      ]
    },
    {
      "cell_type": "markdown",
      "source": [
        "Operations"
      ],
      "metadata": {
        "id": "V_KfCu5yf_bH"
      }
    },
    {
      "cell_type": "markdown",
      "source": [
        "There are many, many operations which we can perform on arrays. Below, we demonstrate a few."
      ],
      "metadata": {
        "id": "HWxvIcl3gB5B"
      }
    },
    {
      "cell_type": "markdown",
      "source": [
        "What is happening in each line?"
      ],
      "metadata": {
        "id": "9E2MMs0NgD62"
      }
    },
    {
      "cell_type": "code",
      "source": [
        "five_times_table"
      ],
      "metadata": {
        "id": "CDRkCHvcgEsV",
        "colab": {
          "base_uri": "https://localhost:8080/"
        },
        "outputId": "fcd6629d-732f-44d2-926a-9b2ab1f994f3"
      },
      "execution_count": 16,
      "outputs": [
        {
          "output_type": "execute_result",
          "data": {
            "text/plain": [
              "array([ 0,  5, 10, 15, 20, 25, 30, 35, 40, 45, 50])"
            ]
          },
          "metadata": {},
          "execution_count": 16
        }
      ]
    },
    {
      "cell_type": "code",
      "source": [
        "print(\"1:\", 2 * five_times_table)\n",
        "print(\"2:\", 10 + five_times_table)\n",
        "print(\"3:\", five_times_table - 1)\n",
        "print(\"4:\", five_times_table/5)\n",
        "print(\"5:\", five_times_table **2)\n",
        "print(\"6:\", five_times_table < 20)"
      ],
      "metadata": {
        "id": "BqCJP_tbgQYF",
        "colab": {
          "base_uri": "https://localhost:8080/"
        },
        "outputId": "81f7f106-62d4-4169-9bfd-ac4da8477bd4"
      },
      "execution_count": 17,
      "outputs": [
        {
          "output_type": "stream",
          "name": "stdout",
          "text": [
            "1: [  0  10  20  30  40  50  60  70  80  90 100]\n",
            "2: [10 15 20 25 30 35 40 45 50 55 60]\n",
            "3: [-1  4  9 14 19 24 29 34 39 44 49]\n",
            "4: [ 0.  1.  2.  3.  4.  5.  6.  7.  8.  9. 10.]\n",
            "5: [   0   25  100  225  400  625  900 1225 1600 2025 2500]\n",
            "6: [ True  True  True  True False False False False False False False]\n"
          ]
        }
      ]
    },
    {
      "cell_type": "markdown",
      "source": [
        "Speed Test"
      ],
      "metadata": {
        "id": "N2OuC_SOgcc1"
      }
    },
    {
      "cell_type": "markdown",
      "source": [
        "If we compare the speed at which we can do these operations compared to core python, we will notice a substantial difference"
      ],
      "metadata": {
        "id": "R1oowFlMggxw"
      }
    },
    {
      "cell_type": "code",
      "source": [
        "fives_list = list(range(0,5001,5))\n",
        "fives_list"
      ],
      "metadata": {
        "colab": {
          "base_uri": "https://localhost:8080/",
          "height": 182
        },
        "id": "yNavO1A0FWX7",
        "outputId": "1114734a-3370-4f29-c06a-9a9c67aebc67"
      },
      "execution_count": 54,
      "outputs": [
        {
          "output_type": "error",
          "ename": "TypeError",
          "evalue": "ignored",
          "traceback": [
            "\u001b[0;31m---------------------------------------------------------------------------\u001b[0m",
            "\u001b[0;31mTypeError\u001b[0m                                 Traceback (most recent call last)",
            "\u001b[0;32m<ipython-input-54-d13dd9b53c24>\u001b[0m in \u001b[0;36m<module>\u001b[0;34m\u001b[0m\n\u001b[0;32m----> 1\u001b[0;31m \u001b[0mfives_list\u001b[0m \u001b[0;34m=\u001b[0m \u001b[0mlist\u001b[0m\u001b[0;34m(\u001b[0m\u001b[0mrange\u001b[0m\u001b[0;34m(\u001b[0m\u001b[0;36m0\u001b[0m\u001b[0;34m,\u001b[0m\u001b[0;36m5001\u001b[0m\u001b[0;34m,\u001b[0m\u001b[0;36m5\u001b[0m\u001b[0;34m)\u001b[0m\u001b[0;34m)\u001b[0m\u001b[0;34m\u001b[0m\u001b[0;34m\u001b[0m\u001b[0m\n\u001b[0m\u001b[1;32m      2\u001b[0m \u001b[0mfives_list\u001b[0m\u001b[0;34m\u001b[0m\u001b[0;34m\u001b[0m\u001b[0m\n",
            "\u001b[0;31mTypeError\u001b[0m: 'list' object is not callable"
          ]
        }
      ]
    },
    {
      "cell_type": "code",
      "source": [
        "five_times_table_lge = np.arange(0,5001,5)\n",
        "five_times_table_lge"
      ],
      "metadata": {
        "id": "725M1rz6hhsy",
        "colab": {
          "base_uri": "https://localhost:8080/"
        },
        "outputId": "eb484279-d46b-4691-ed65-11876c5e054b"
      },
      "execution_count": 19,
      "outputs": [
        {
          "output_type": "execute_result",
          "data": {
            "text/plain": [
              "array([   0,    5,   10, ..., 4990, 4995, 5000])"
            ]
          },
          "metadata": {},
          "execution_count": 19
        }
      ]
    },
    {
      "cell_type": "code",
      "source": [
        "%timeit five_times_table_lge + 5"
      ],
      "metadata": {
        "id": "II4L3N3MiJyW",
        "colab": {
          "base_uri": "https://localhost:8080/"
        },
        "outputId": "68782fc1-a496-429b-ce53-b418bd4450fa"
      },
      "execution_count": 20,
      "outputs": [
        {
          "output_type": "stream",
          "name": "stdout",
          "text": [
            "1.35 µs ± 18.4 ns per loop (mean ± std. dev. of 7 runs, 1000000 loops each)\n"
          ]
        }
      ]
    },
    {
      "cell_type": "code",
      "source": [
        "%timeit [e + 5 for e in fives_list]"
      ],
      "metadata": {
        "id": "EmNj-Ec8iSlf",
        "colab": {
          "base_uri": "https://localhost:8080/",
          "height": 397
        },
        "outputId": "8b3f0668-84c2-4da5-a34e-8b4d7936f34a"
      },
      "execution_count": 21,
      "outputs": [
        {
          "output_type": "error",
          "ename": "NameError",
          "evalue": "ignored",
          "traceback": [
            "\u001b[0;31m---------------------------------------------------------------------------\u001b[0m",
            "\u001b[0;31mNameError\u001b[0m                                 Traceback (most recent call last)",
            "\u001b[0;32m<ipython-input-21-3ec39a49889d>\u001b[0m in \u001b[0;36m<module>\u001b[0;34m\u001b[0m\n\u001b[0;32m----> 1\u001b[0;31m \u001b[0mget_ipython\u001b[0m\u001b[0;34m(\u001b[0m\u001b[0;34m)\u001b[0m\u001b[0;34m.\u001b[0m\u001b[0mrun_line_magic\u001b[0m\u001b[0;34m(\u001b[0m\u001b[0;34m'timeit'\u001b[0m\u001b[0;34m,\u001b[0m \u001b[0;34m'[e + 5 for e in fives_list]'\u001b[0m\u001b[0;34m)\u001b[0m\u001b[0;34m\u001b[0m\u001b[0;34m\u001b[0m\u001b[0m\n\u001b[0m",
            "\u001b[0;32m/usr/local/lib/python3.7/dist-packages/IPython/core/interactiveshell.py\u001b[0m in \u001b[0;36mrun_line_magic\u001b[0;34m(self, magic_name, line, _stack_depth)\u001b[0m\n\u001b[1;32m   2312\u001b[0m                 \u001b[0mkwargs\u001b[0m\u001b[0;34m[\u001b[0m\u001b[0;34m'local_ns'\u001b[0m\u001b[0;34m]\u001b[0m \u001b[0;34m=\u001b[0m \u001b[0msys\u001b[0m\u001b[0;34m.\u001b[0m\u001b[0m_getframe\u001b[0m\u001b[0;34m(\u001b[0m\u001b[0mstack_depth\u001b[0m\u001b[0;34m)\u001b[0m\u001b[0;34m.\u001b[0m\u001b[0mf_locals\u001b[0m\u001b[0;34m\u001b[0m\u001b[0;34m\u001b[0m\u001b[0m\n\u001b[1;32m   2313\u001b[0m             \u001b[0;32mwith\u001b[0m \u001b[0mself\u001b[0m\u001b[0;34m.\u001b[0m\u001b[0mbuiltin_trap\u001b[0m\u001b[0;34m:\u001b[0m\u001b[0;34m\u001b[0m\u001b[0;34m\u001b[0m\u001b[0m\n\u001b[0;32m-> 2314\u001b[0;31m                 \u001b[0mresult\u001b[0m \u001b[0;34m=\u001b[0m \u001b[0mfn\u001b[0m\u001b[0;34m(\u001b[0m\u001b[0;34m*\u001b[0m\u001b[0margs\u001b[0m\u001b[0;34m,\u001b[0m \u001b[0;34m**\u001b[0m\u001b[0mkwargs\u001b[0m\u001b[0;34m)\u001b[0m\u001b[0;34m\u001b[0m\u001b[0;34m\u001b[0m\u001b[0m\n\u001b[0m\u001b[1;32m   2315\u001b[0m             \u001b[0;32mreturn\u001b[0m \u001b[0mresult\u001b[0m\u001b[0;34m\u001b[0m\u001b[0;34m\u001b[0m\u001b[0m\n\u001b[1;32m   2316\u001b[0m \u001b[0;34m\u001b[0m\u001b[0m\n",
            "\u001b[0;32m<decorator-gen-53>\u001b[0m in \u001b[0;36mtimeit\u001b[0;34m(self, line, cell, local_ns)\u001b[0m\n",
            "\u001b[0;32m/usr/local/lib/python3.7/dist-packages/IPython/core/magic.py\u001b[0m in \u001b[0;36m<lambda>\u001b[0;34m(f, *a, **k)\u001b[0m\n\u001b[1;32m    185\u001b[0m     \u001b[0;31m# but it's overkill for just that one bit of state.\u001b[0m\u001b[0;34m\u001b[0m\u001b[0;34m\u001b[0m\u001b[0;34m\u001b[0m\u001b[0m\n\u001b[1;32m    186\u001b[0m     \u001b[0;32mdef\u001b[0m \u001b[0mmagic_deco\u001b[0m\u001b[0;34m(\u001b[0m\u001b[0marg\u001b[0m\u001b[0;34m)\u001b[0m\u001b[0;34m:\u001b[0m\u001b[0;34m\u001b[0m\u001b[0;34m\u001b[0m\u001b[0m\n\u001b[0;32m--> 187\u001b[0;31m         \u001b[0mcall\u001b[0m \u001b[0;34m=\u001b[0m \u001b[0;32mlambda\u001b[0m \u001b[0mf\u001b[0m\u001b[0;34m,\u001b[0m \u001b[0;34m*\u001b[0m\u001b[0ma\u001b[0m\u001b[0;34m,\u001b[0m \u001b[0;34m**\u001b[0m\u001b[0mk\u001b[0m\u001b[0;34m:\u001b[0m \u001b[0mf\u001b[0m\u001b[0;34m(\u001b[0m\u001b[0;34m*\u001b[0m\u001b[0ma\u001b[0m\u001b[0;34m,\u001b[0m \u001b[0;34m**\u001b[0m\u001b[0mk\u001b[0m\u001b[0;34m)\u001b[0m\u001b[0;34m\u001b[0m\u001b[0;34m\u001b[0m\u001b[0m\n\u001b[0m\u001b[1;32m    188\u001b[0m \u001b[0;34m\u001b[0m\u001b[0m\n\u001b[1;32m    189\u001b[0m         \u001b[0;32mif\u001b[0m \u001b[0mcallable\u001b[0m\u001b[0;34m(\u001b[0m\u001b[0marg\u001b[0m\u001b[0;34m)\u001b[0m\u001b[0;34m:\u001b[0m\u001b[0;34m\u001b[0m\u001b[0;34m\u001b[0m\u001b[0m\n",
            "\u001b[0;32m/usr/local/lib/python3.7/dist-packages/IPython/core/magics/execution.py\u001b[0m in \u001b[0;36mtimeit\u001b[0;34m(self, line, cell, local_ns)\u001b[0m\n\u001b[1;32m   1156\u001b[0m             \u001b[0;32mfor\u001b[0m \u001b[0mindex\u001b[0m \u001b[0;32min\u001b[0m \u001b[0mrange\u001b[0m\u001b[0;34m(\u001b[0m\u001b[0;36m0\u001b[0m\u001b[0;34m,\u001b[0m \u001b[0;36m10\u001b[0m\u001b[0;34m)\u001b[0m\u001b[0;34m:\u001b[0m\u001b[0;34m\u001b[0m\u001b[0;34m\u001b[0m\u001b[0m\n\u001b[1;32m   1157\u001b[0m                 \u001b[0mnumber\u001b[0m \u001b[0;34m=\u001b[0m \u001b[0;36m10\u001b[0m \u001b[0;34m**\u001b[0m \u001b[0mindex\u001b[0m\u001b[0;34m\u001b[0m\u001b[0;34m\u001b[0m\u001b[0m\n\u001b[0;32m-> 1158\u001b[0;31m                 \u001b[0mtime_number\u001b[0m \u001b[0;34m=\u001b[0m \u001b[0mtimer\u001b[0m\u001b[0;34m.\u001b[0m\u001b[0mtimeit\u001b[0m\u001b[0;34m(\u001b[0m\u001b[0mnumber\u001b[0m\u001b[0;34m)\u001b[0m\u001b[0;34m\u001b[0m\u001b[0;34m\u001b[0m\u001b[0m\n\u001b[0m\u001b[1;32m   1159\u001b[0m                 \u001b[0;32mif\u001b[0m \u001b[0mtime_number\u001b[0m \u001b[0;34m>=\u001b[0m \u001b[0;36m0.2\u001b[0m\u001b[0;34m:\u001b[0m\u001b[0;34m\u001b[0m\u001b[0;34m\u001b[0m\u001b[0m\n\u001b[1;32m   1160\u001b[0m                     \u001b[0;32mbreak\u001b[0m\u001b[0;34m\u001b[0m\u001b[0;34m\u001b[0m\u001b[0m\n",
            "\u001b[0;32m/usr/local/lib/python3.7/dist-packages/IPython/core/magics/execution.py\u001b[0m in \u001b[0;36mtimeit\u001b[0;34m(self, number)\u001b[0m\n\u001b[1;32m    167\u001b[0m         \u001b[0mgc\u001b[0m\u001b[0;34m.\u001b[0m\u001b[0mdisable\u001b[0m\u001b[0;34m(\u001b[0m\u001b[0;34m)\u001b[0m\u001b[0;34m\u001b[0m\u001b[0;34m\u001b[0m\u001b[0m\n\u001b[1;32m    168\u001b[0m         \u001b[0;32mtry\u001b[0m\u001b[0;34m:\u001b[0m\u001b[0;34m\u001b[0m\u001b[0;34m\u001b[0m\u001b[0m\n\u001b[0;32m--> 169\u001b[0;31m             \u001b[0mtiming\u001b[0m \u001b[0;34m=\u001b[0m \u001b[0mself\u001b[0m\u001b[0;34m.\u001b[0m\u001b[0minner\u001b[0m\u001b[0;34m(\u001b[0m\u001b[0mit\u001b[0m\u001b[0;34m,\u001b[0m \u001b[0mself\u001b[0m\u001b[0;34m.\u001b[0m\u001b[0mtimer\u001b[0m\u001b[0;34m)\u001b[0m\u001b[0;34m\u001b[0m\u001b[0;34m\u001b[0m\u001b[0m\n\u001b[0m\u001b[1;32m    170\u001b[0m         \u001b[0;32mfinally\u001b[0m\u001b[0;34m:\u001b[0m\u001b[0;34m\u001b[0m\u001b[0;34m\u001b[0m\u001b[0m\n\u001b[1;32m    171\u001b[0m             \u001b[0;32mif\u001b[0m \u001b[0mgcold\u001b[0m\u001b[0;34m:\u001b[0m\u001b[0;34m\u001b[0m\u001b[0;34m\u001b[0m\u001b[0m\n",
            "\u001b[0;32m<magic-timeit>\u001b[0m in \u001b[0;36minner\u001b[0;34m(_it, _timer)\u001b[0m\n",
            "\u001b[0;31mNameError\u001b[0m: name 'fives_list' is not defined"
          ]
        }
      ]
    },
    {
      "cell_type": "markdown",
      "source": [
        "Boolean string operations can also be performed on ndarrays."
      ],
      "metadata": {
        "id": "ytR_TFnTkLO_"
      }
    },
    {
      "cell_type": "code",
      "source": [
        "words = np.array([\"ten\", \"nine\", \"eight\", \"seven\", \"six\"])\n",
        "\n",
        "print(np.isin(words, 'e'))\n",
        "\n",
        "print(\"e\" in words)\n",
        "[\"e\" in word for word in words]"
      ],
      "metadata": {
        "id": "9L_GEOZ4kO5z",
        "colab": {
          "base_uri": "https://localhost:8080/"
        },
        "outputId": "44066c0c-0dfd-4beb-8411-0a615986934d"
      },
      "execution_count": 22,
      "outputs": [
        {
          "output_type": "stream",
          "name": "stdout",
          "text": [
            "[False False False False False]\n",
            "False\n"
          ]
        },
        {
          "output_type": "execute_result",
          "data": {
            "text/plain": [
              "[True, True, True, True, False]"
            ]
          },
          "metadata": {},
          "execution_count": 22
        }
      ]
    },
    {
      "cell_type": "markdown",
      "source": [
        "Transpose"
      ],
      "metadata": {
        "id": "AHG3Jt-Hzr90"
      }
    },
    {
      "cell_type": "code",
      "source": [
        "people.shape = (2, 6)\n",
        "print(people, \"\\n\")\n",
        "print(people.T)"
      ],
      "metadata": {
        "colab": {
          "base_uri": "https://localhost:8080/"
        },
        "id": "dILdfWsgzue0",
        "outputId": "95e5610f-897e-4f81-fccd-ee8184e5b405"
      },
      "execution_count": 23,
      "outputs": [
        {
          "output_type": "stream",
          "name": "stdout",
          "text": [
            "[[10  5  8 32 65 43]\n",
            " [32 18 26 60 55 65]] \n",
            "\n",
            "[[10 32]\n",
            " [ 5 18]\n",
            " [ 8 26]\n",
            " [32 60]\n",
            " [65 55]\n",
            " [43 65]]\n"
          ]
        }
      ]
    },
    {
      "cell_type": "markdown",
      "source": [
        "Data Types"
      ],
      "metadata": {
        "id": "m_23TBkIz7Di"
      }
    },
    {
      "cell_type": "markdown",
      "source": [
        "As previously mentioned, ndarrays can only have one data type. If we want to obtain or change this, we use the .dtype attribute."
      ],
      "metadata": {
        "id": "9TdDyzBsz8vj"
      }
    },
    {
      "cell_type": "code",
      "source": [
        "people.dtype"
      ],
      "metadata": {
        "colab": {
          "base_uri": "https://localhost:8080/"
        },
        "id": "DPo316X5z-wl",
        "outputId": "8a9f01a5-b848-4dcd-d270-6cdf087f5d6f"
      },
      "execution_count": 24,
      "outputs": [
        {
          "output_type": "execute_result",
          "data": {
            "text/plain": [
              "dtype('int64')"
            ]
          },
          "metadata": {},
          "execution_count": 24
        }
      ]
    },
    {
      "cell_type": "markdown",
      "source": [
        "What is the data type of the below ndarray?"
      ],
      "metadata": {
        "id": "XBukaEC90Cz9"
      }
    },
    {
      "cell_type": "code",
      "source": [
        "ages_with_strings = np.array([10, 5, 8, '32', '65', '43'])\n",
        "ages_with_strings"
      ],
      "metadata": {
        "colab": {
          "base_uri": "https://localhost:8080/"
        },
        "id": "pNAPsl5z0Dl7",
        "outputId": "6870ad4a-bd9c-4c4e-de6c-dd87e0c64f6f"
      },
      "execution_count": 25,
      "outputs": [
        {
          "output_type": "execute_result",
          "data": {
            "text/plain": [
              "array(['10', '5', '8', '32', '65', '43'], dtype='<U21')"
            ]
          },
          "metadata": {},
          "execution_count": 25
        }
      ]
    },
    {
      "cell_type": "markdown",
      "source": [
        "\n",
        "What is the dtype of this array?"
      ],
      "metadata": {
        "id": "PwTNNrmw0LxL"
      }
    },
    {
      "cell_type": "code",
      "source": [
        "ages_with_strings = np.array([10, 5, 8, '32', '65', '43'], dtype='int32')\n",
        "ages_with_strings"
      ],
      "metadata": {
        "colab": {
          "base_uri": "https://localhost:8080/"
        },
        "id": "M93bPKuW0N3s",
        "outputId": "85157d7a-9a3b-48bc-829c-532db764c0a4"
      },
      "execution_count": 26,
      "outputs": [
        {
          "output_type": "execute_result",
          "data": {
            "text/plain": [
              "array([10,  5,  8, 32, 65, 43], dtype=int32)"
            ]
          },
          "metadata": {},
          "execution_count": 26
        }
      ]
    },
    {
      "cell_type": "markdown",
      "source": [
        "What do you think has happened here?"
      ],
      "metadata": {
        "id": "bIJf51cE0R-K"
      }
    },
    {
      "cell_type": "code",
      "source": [
        "ages_with_strings = np.array([10, 5, 8, '32', '65', '43'])\n",
        "print(ages_with_strings)"
      ],
      "metadata": {
        "colab": {
          "base_uri": "https://localhost:8080/"
        },
        "id": "VZjOMSMZ0TCc",
        "outputId": "9687c0b6-a0e3-41f8-c581-62d0982ee63e"
      },
      "execution_count": 27,
      "outputs": [
        {
          "output_type": "stream",
          "name": "stdout",
          "text": [
            "['10' '5' '8' '32' '65' '43']\n"
          ]
        }
      ]
    },
    {
      "cell_type": "code",
      "source": [
        "ages_with_strings.dtype = 'int32'\n",
        "print(ages_with_strings)"
      ],
      "metadata": {
        "colab": {
          "base_uri": "https://localhost:8080/"
        },
        "id": "BOO7kemK0XUO",
        "outputId": "8720adc7-404b-4507-f100-b8bdc8474c6f"
      },
      "execution_count": 28,
      "outputs": [
        {
          "output_type": "stream",
          "name": "stdout",
          "text": [
            "[49 48  0  0  0  0  0  0  0  0  0  0  0  0  0  0  0  0  0  0  0 53  0  0\n",
            "  0  0  0  0  0  0  0  0  0  0  0  0  0  0  0  0  0  0 56  0  0  0  0  0\n",
            "  0  0  0  0  0  0  0  0  0  0  0  0  0  0  0 51 50  0  0  0  0  0  0  0\n",
            "  0  0  0  0  0  0  0  0  0  0  0  0 54 53  0  0  0  0  0  0  0  0  0  0\n",
            "  0  0  0  0  0  0  0  0  0 52 51  0  0  0  0  0  0  0  0  0  0  0  0  0\n",
            "  0  0  0  0  0  0]\n"
          ]
        }
      ]
    },
    {
      "cell_type": "code",
      "source": [
        "ages_with_strings.size"
      ],
      "metadata": {
        "colab": {
          "base_uri": "https://localhost:8080/"
        },
        "id": "9Sqf-Ag20aEs",
        "outputId": "0811611e-bb5d-4604-cec6-4bc7b0ae57ac"
      },
      "execution_count": 29,
      "outputs": [
        {
          "output_type": "execute_result",
          "data": {
            "text/plain": [
              "126"
            ]
          },
          "metadata": {},
          "execution_count": 29
        }
      ]
    },
    {
      "cell_type": "code",
      "source": [
        "ages_with_strings.size/21"
      ],
      "metadata": {
        "colab": {
          "base_uri": "https://localhost:8080/"
        },
        "id": "QuNCYFu_0en3",
        "outputId": "a0aa9ba8-0b11-4d94-fd55-886cd723a5cc"
      },
      "execution_count": 30,
      "outputs": [
        {
          "output_type": "execute_result",
          "data": {
            "text/plain": [
              "6.0"
            ]
          },
          "metadata": {},
          "execution_count": 30
        }
      ]
    },
    {
      "cell_type": "code",
      "source": [
        "np.array([10, 5, 8, '32', '65', '43']).size"
      ],
      "metadata": {
        "colab": {
          "base_uri": "https://localhost:8080/"
        },
        "id": "mTECdWX81as-",
        "outputId": "4f90769f-8603-4c35-a97a-403d0c44c285"
      },
      "execution_count": 31,
      "outputs": [
        {
          "output_type": "execute_result",
          "data": {
            "text/plain": [
              "6"
            ]
          },
          "metadata": {},
          "execution_count": 31
        }
      ]
    },
    {
      "cell_type": "markdown",
      "source": [
        "The correct way to have changed the data type of the ndarray would have been to use the .astype() method, demonstrated below."
      ],
      "metadata": {
        "id": "3p8bnLip1ixy"
      }
    },
    {
      "cell_type": "code",
      "source": [
        "ages_with_strings = np.array([10, 5, 8, '32', '65', '43'])\n",
        "print(ages_with_strings)\n",
        "print(ages_with_strings.astype('int32'))"
      ],
      "metadata": {
        "colab": {
          "base_uri": "https://localhost:8080/"
        },
        "id": "OxgnHN2h1hxH",
        "outputId": "ea5259a8-dd1f-4eee-fa13-683be896424b"
      },
      "execution_count": 32,
      "outputs": [
        {
          "output_type": "stream",
          "name": "stdout",
          "text": [
            "['10' '5' '8' '32' '65' '43']\n",
            "[10  5  8 32 65 43]\n"
          ]
        }
      ]
    },
    {
      "cell_type": "markdown",
      "source": [
        "Exercise"
      ],
      "metadata": {
        "id": "gRC7WT531rpk"
      }
    },
    {
      "cell_type": "code",
      "source": [
        "# Create an array of string numbers, but use dtype to make it an array of floats.\n",
        "\n",
        "x = np.array(['1.2', '2.5', '3.7'])\n",
        "y = x.astype(np.float)\n",
        "print(y)"
      ],
      "metadata": {
        "colab": {
          "base_uri": "https://localhost:8080/"
        },
        "id": "2Ibkno9e1siE",
        "outputId": "ac770547-aceb-4847-b758-9eb08e17f2cb"
      },
      "execution_count": 33,
      "outputs": [
        {
          "output_type": "stream",
          "name": "stdout",
          "text": [
            "[1.2 2.5 3.7]\n"
          ]
        },
        {
          "output_type": "stream",
          "name": "stderr",
          "text": [
            "/usr/local/lib/python3.7/dist-packages/ipykernel_launcher.py:4: DeprecationWarning: `np.float` is a deprecated alias for the builtin `float`. To silence this warning, use `float` by itself. Doing this will not modify any behavior and is safe. If you specifically wanted the numpy scalar type, use `np.float64` here.\n",
            "Deprecated in NumPy 1.20; for more details and guidance: https://numpy.org/devdocs/release/1.20.0-notes.html#deprecations\n",
            "  after removing the cwd from sys.path.\n"
          ]
        }
      ]
    },
    {
      "cell_type": "code",
      "source": [
        "#### Transpose the matrix, printing the new size and shape.\n",
        "\n",
        "arr= np.array([[1, 2, 3], [4, 5, 6]])\n",
        "\n",
        "print(f'Array:\\n{arr}')\n",
        "arr_transpose = arr.transpose()\n",
        "\n",
        "print(f'Transposed Array:\\n{arr_transpose}')\n",
        "print(\"Size:\\t\" , arr.size)\n",
        "print(\"Shape:\\t\", arr.shape)\n"
      ],
      "metadata": {
        "colab": {
          "base_uri": "https://localhost:8080/"
        },
        "id": "lAHjIej52ZAR",
        "outputId": "75f8a3a1-919c-4dfc-92e4-9a3c9ecd6638"
      },
      "execution_count": 34,
      "outputs": [
        {
          "output_type": "stream",
          "name": "stdout",
          "text": [
            "Array:\n",
            "[[1 2 3]\n",
            " [4 5 6]]\n",
            "Transposed Array:\n",
            "[[1 4]\n",
            " [2 5]\n",
            " [3 6]]\n",
            "Size:\t 6\n",
            "Shape:\t (2, 3)\n"
          ]
        }
      ]
    },
    {
      "cell_type": "code",
      "source": [
        "#### Use the .astype() method to convert the array to boolean.\n",
        "\n",
        "arr= np.array([[0,1,1], [1,0,0]])\n",
        "arr.astype(np.bool)"
      ],
      "metadata": {
        "colab": {
          "base_uri": "https://localhost:8080/"
        },
        "id": "-26UFUMP2tLc",
        "outputId": "c6f8ac81-80ea-49b1-e1d6-4330617b9194"
      },
      "execution_count": 35,
      "outputs": [
        {
          "output_type": "stream",
          "name": "stderr",
          "text": [
            "/usr/local/lib/python3.7/dist-packages/ipykernel_launcher.py:4: DeprecationWarning: `np.bool` is a deprecated alias for the builtin `bool`. To silence this warning, use `bool` by itself. Doing this will not modify any behavior and is safe. If you specifically wanted the numpy scalar type, use `np.bool_` here.\n",
            "Deprecated in NumPy 1.20; for more details and guidance: https://numpy.org/devdocs/release/1.20.0-notes.html#deprecations\n",
            "  after removing the cwd from sys.path.\n"
          ]
        },
        {
          "output_type": "execute_result",
          "data": {
            "text/plain": [
              "array([[False,  True,  True],\n",
              "       [ True, False, False]])"
            ]
          },
          "metadata": {},
          "execution_count": 35
        }
      ]
    },
    {
      "cell_type": "markdown",
      "source": [
        "Array Slicing Operations"
      ],
      "metadata": {
        "id": "n3V4C7wg2wyN"
      }
    },
    {
      "cell_type": "markdown",
      "source": [
        "As before, we can use square brackets and indices to access individual values, and the colon operator to slice the array."
      ],
      "metadata": {
        "id": "lJOzPtH52y-r"
      }
    },
    {
      "cell_type": "code",
      "source": [
        "five_times_table"
      ],
      "metadata": {
        "colab": {
          "base_uri": "https://localhost:8080/"
        },
        "id": "00jjwS4l22Gi",
        "outputId": "54030437-0be5-484d-d0c0-76f1933fd172"
      },
      "execution_count": 36,
      "outputs": [
        {
          "output_type": "execute_result",
          "data": {
            "text/plain": [
              "array([ 0,  5, 10, 15, 20, 25, 30, 35, 40, 45, 50])"
            ]
          },
          "metadata": {},
          "execution_count": 36
        }
      ]
    },
    {
      "cell_type": "code",
      "source": [
        "five_times_table[0]"
      ],
      "metadata": {
        "colab": {
          "base_uri": "https://localhost:8080/"
        },
        "id": "EpIM_oix25Rt",
        "outputId": "a275c287-90ad-4596-f4ae-24acf5f79519"
      },
      "execution_count": 37,
      "outputs": [
        {
          "output_type": "execute_result",
          "data": {
            "text/plain": [
              "0"
            ]
          },
          "metadata": {},
          "execution_count": 37
        }
      ]
    },
    {
      "cell_type": "code",
      "source": [
        "five_times_table[-1]"
      ],
      "metadata": {
        "colab": {
          "base_uri": "https://localhost:8080/"
        },
        "id": "xl7g7OjS28KS",
        "outputId": "08edb391-e6a0-4dd1-d1e6-9e75ed27734a"
      },
      "execution_count": 38,
      "outputs": [
        {
          "output_type": "execute_result",
          "data": {
            "text/plain": [
              "50"
            ]
          },
          "metadata": {},
          "execution_count": 38
        }
      ]
    },
    {
      "cell_type": "code",
      "source": [
        "five_times_table[:4]"
      ],
      "metadata": {
        "colab": {
          "base_uri": "https://localhost:8080/"
        },
        "id": "KfOwIfSE2-mJ",
        "outputId": "6e680635-6bb4-4d9e-e3b0-736b0abaf245"
      },
      "execution_count": 39,
      "outputs": [
        {
          "output_type": "execute_result",
          "data": {
            "text/plain": [
              "array([ 0,  5, 10, 15])"
            ]
          },
          "metadata": {},
          "execution_count": 39
        }
      ]
    },
    {
      "cell_type": "code",
      "source": [
        "five_times_table[4:]"
      ],
      "metadata": {
        "colab": {
          "base_uri": "https://localhost:8080/"
        },
        "id": "1OjtyeKw3Dip",
        "outputId": "ed4748c4-600b-4255-eab1-f78d3534bc7b"
      },
      "execution_count": 40,
      "outputs": [
        {
          "output_type": "execute_result",
          "data": {
            "text/plain": [
              "array([20, 25, 30, 35, 40, 45, 50])"
            ]
          },
          "metadata": {},
          "execution_count": 40
        }
      ]
    },
    {
      "cell_type": "markdown",
      "source": [
        "We can also slice an n-dim ndarray., specifying the slice operation accross each axis."
      ],
      "metadata": {
        "id": "xUP8C9P73G8T"
      }
    },
    {
      "cell_type": "code",
      "source": [
        "print(people)\n",
        "people[:3, :3]\n"
      ],
      "metadata": {
        "colab": {
          "base_uri": "https://localhost:8080/"
        },
        "id": "SDLHmD4d3Irg",
        "outputId": "24c89666-f86e-4eec-cf9f-21e12b0004c3"
      },
      "execution_count": 41,
      "outputs": [
        {
          "output_type": "stream",
          "name": "stdout",
          "text": [
            "[[10  5  8 32 65 43]\n",
            " [32 18 26 60 55 65]]\n"
          ]
        },
        {
          "output_type": "execute_result",
          "data": {
            "text/plain": [
              "array([[10,  5,  8],\n",
              "       [32, 18, 26]])"
            ]
          },
          "metadata": {},
          "execution_count": 41
        }
      ]
    },
    {
      "cell_type": "markdown",
      "source": [
        "Exercise"
      ],
      "metadata": {
        "id": "AP76yadm3U4t"
      }
    },
    {
      "cell_type": "code",
      "source": [
        "# Create a numpy array with 50 zeros\n",
        "zeroArr = np.zeros(50)\n",
        "print(zeroArr)"
      ],
      "metadata": {
        "colab": {
          "base_uri": "https://localhost:8080/"
        },
        "id": "kjtNpMsg3WnT",
        "outputId": "5da0308c-475c-4891-dece-dc55964af6cc"
      },
      "execution_count": 42,
      "outputs": [
        {
          "output_type": "stream",
          "name": "stdout",
          "text": [
            "[0. 0. 0. 0. 0. 0. 0. 0. 0. 0. 0. 0. 0. 0. 0. 0. 0. 0. 0. 0. 0. 0. 0. 0.\n",
            " 0. 0. 0. 0. 0. 0. 0. 0. 0. 0. 0. 0. 0. 0. 0. 0. 0. 0. 0. 0. 0. 0. 0. 0.\n",
            " 0. 0.]\n"
          ]
        }
      ]
    },
    {
      "cell_type": "code",
      "source": [
        "# Create a np array of 2 repeated 20 times\n",
        "\n",
        "twoArr = np.repeat(2, 20)\n",
        "print(twoArr)"
      ],
      "metadata": {
        "colab": {
          "base_uri": "https://localhost:8080/"
        },
        "id": "hqYPxMtv3Zn5",
        "outputId": "54c13c8a-794a-418e-f640-fbf609c7c4a3"
      },
      "execution_count": 43,
      "outputs": [
        {
          "output_type": "stream",
          "name": "stdout",
          "text": [
            "[2 2 2 2 2 2 2 2 2 2 2 2 2 2 2 2 2 2 2 2]\n"
          ]
        }
      ]
    },
    {
      "cell_type": "code",
      "source": [
        "# Create a numpy array from 0 to 2pi  in steps of 0.1\n",
        "import math as m\n",
        "space=np.arange(0,m.pi*2,0.1)\n",
        "print(space)"
      ],
      "metadata": {
        "colab": {
          "base_uri": "https://localhost:8080/"
        },
        "id": "eNL78zbN3cUJ",
        "outputId": "7d7615d8-c98a-4242-f616-2d203091d8ec"
      },
      "execution_count": 44,
      "outputs": [
        {
          "output_type": "stream",
          "name": "stdout",
          "text": [
            "[0.  0.1 0.2 0.3 0.4 0.5 0.6 0.7 0.8 0.9 1.  1.1 1.2 1.3 1.4 1.5 1.6 1.7\n",
            " 1.8 1.9 2.  2.1 2.2 2.3 2.4 2.5 2.6 2.7 2.8 2.9 3.  3.1 3.2 3.3 3.4 3.5\n",
            " 3.6 3.7 3.8 3.9 4.  4.1 4.2 4.3 4.4 4.5 4.6 4.7 4.8 4.9 5.  5.1 5.2 5.3\n",
            " 5.4 5.5 5.6 5.7 5.8 5.9 6.  6.1 6.2]\n"
          ]
        }
      ]
    },
    {
      "cell_type": "code",
      "source": [
        "# For one of the arrays generated:\n",
        "\n",
        "# Get the first five values\n",
        "# Get the last 3 values\n",
        "# Get the 4th value to the 7th value\n",
        "\n",
        "five_times_table\n",
        "print(five_times_table)\n",
        "five_times_table[:5]\n",
        "five_times_table[8:]\n",
        "five_times_table[4:7]"
      ],
      "metadata": {
        "colab": {
          "base_uri": "https://localhost:8080/"
        },
        "id": "NTtEVvNa5OGD",
        "outputId": "fa597ed3-c4a6-481d-c8f4-6af2e65aae2f"
      },
      "execution_count": 45,
      "outputs": [
        {
          "output_type": "stream",
          "name": "stdout",
          "text": [
            "[ 0  5 10 15 20 25 30 35 40 45 50]\n"
          ]
        },
        {
          "output_type": "execute_result",
          "data": {
            "text/plain": [
              "array([20, 25, 30])"
            ]
          },
          "metadata": {},
          "execution_count": 45
        }
      ]
    },
    {
      "cell_type": "markdown",
      "source": [
        "Stats"
      ],
      "metadata": {
        "id": "cpPXuwe96crC"
      }
    },
    {
      "cell_type": "code",
      "source": [
        "np.array([1.65432, 5.98765]).round(2)"
      ],
      "metadata": {
        "colab": {
          "base_uri": "https://localhost:8080/"
        },
        "id": "4jjCcAfX6eEy",
        "outputId": "de9ddfb0-d4e4-429d-ae70-147a2d3d4b66"
      },
      "execution_count": 46,
      "outputs": [
        {
          "output_type": "execute_result",
          "data": {
            "text/plain": [
              "array([1.65, 5.99])"
            ]
          },
          "metadata": {},
          "execution_count": 46
        }
      ]
    },
    {
      "cell_type": "code",
      "source": [
        "nums = np.arange(0, 4, 0.2555)\n",
        "print(nums)"
      ],
      "metadata": {
        "colab": {
          "base_uri": "https://localhost:8080/"
        },
        "id": "6JM2FUi76hSu",
        "outputId": "f76a58a0-0393-4c27-c9f4-62f9dbd51562"
      },
      "execution_count": 47,
      "outputs": [
        {
          "output_type": "stream",
          "name": "stdout",
          "text": [
            "[0.     0.2555 0.511  0.7665 1.022  1.2775 1.533  1.7885 2.044  2.2995\n",
            " 2.555  2.8105 3.066  3.3215 3.577  3.8325]\n"
          ]
        }
      ]
    },
    {
      "cell_type": "markdown",
      "source": [
        "Exercise"
      ],
      "metadata": {
        "id": "HvwcTaT66ne7"
      }
    },
    {
      "cell_type": "code",
      "source": [
        "#Compute min, max, sum, mean, median, variance, and standard deviation of the above array, all to to 2 decimal places.\n",
        "\n",
        "print(\"min = \", np.min(nums).round(2))\n",
        "print(\"max = \", np.max(nums).round(2))\n",
        "print(\"sum = \", np.sum(nums).round(2))\n",
        "print(\"mean = \", np.mean(nums).round(2))\n",
        "print(\"median = \", np.median(nums).round(2))\n",
        "print(\"var = \", np.var(nums).round(2))\n",
        "print(\"std = \", np.std(nums).round(2))\n"
      ],
      "metadata": {
        "colab": {
          "base_uri": "https://localhost:8080/"
        },
        "id": "yLoEiD8J6tlf",
        "outputId": "261d3dc8-a061-45f0-f0c3-3fc56bd79692"
      },
      "execution_count": 48,
      "outputs": [
        {
          "output_type": "stream",
          "name": "stdout",
          "text": [
            "min =  0.0\n",
            "max =  3.83\n",
            "sum =  30.66\n",
            "mean =  1.92\n",
            "median =  1.92\n",
            "var =  1.39\n",
            "std =  1.18\n"
          ]
        }
      ]
    },
    {
      "cell_type": "markdown",
      "source": [
        "Random"
      ],
      "metadata": {
        "id": "qi1rBjgb6592"
      }
    },
    {
      "cell_type": "markdown",
      "source": [
        "With np.random, we can generate a number of types of dataset, and create training data."
      ],
      "metadata": {
        "id": "AkcXo6LI67rf"
      }
    },
    {
      "cell_type": "markdown",
      "source": [
        "The below code simulates a fair coin toss."
      ],
      "metadata": {
        "id": "2j5ecZds6-Zp"
      }
    },
    {
      "cell_type": "code",
      "source": [
        "flip = np.random.choice([0,1], 10)\n",
        "flip"
      ],
      "metadata": {
        "colab": {
          "base_uri": "https://localhost:8080/"
        },
        "id": "0awb7e-O6_Or",
        "outputId": "755ef6e7-bea6-4fd8-b13b-751eaf629c36"
      },
      "execution_count": 49,
      "outputs": [
        {
          "output_type": "execute_result",
          "data": {
            "text/plain": [
              "array([1, 0, 0, 0, 0, 1, 0, 1, 1, 1])"
            ]
          },
          "metadata": {},
          "execution_count": 49
        }
      ]
    },
    {
      "cell_type": "code",
      "source": [
        "np.random.rand(10,20,9)"
      ],
      "metadata": {
        "colab": {
          "base_uri": "https://localhost:8080/"
        },
        "id": "IWJ6NB1H7DrR",
        "outputId": "c16845bd-3643-4010-fcaa-b0486a8fb58e"
      },
      "execution_count": 50,
      "outputs": [
        {
          "output_type": "execute_result",
          "data": {
            "text/plain": [
              "array([[[0.95286926, 0.86691276, 0.97644084, ..., 0.87031258,\n",
              "         0.97087143, 0.98109707],\n",
              "        [0.21775111, 0.62883488, 0.22054627, ..., 0.40413353,\n",
              "         0.80628104, 0.85411242],\n",
              "        [0.03633246, 0.21924512, 0.60954834, ..., 0.53165084,\n",
              "         0.56309509, 0.70281862],\n",
              "        ...,\n",
              "        [0.18077252, 0.61670598, 0.91530292, ..., 0.68264139,\n",
              "         0.41848684, 0.71866229],\n",
              "        [0.82138393, 0.88737602, 0.81279979, ..., 0.01333406,\n",
              "         0.87217767, 0.21253087],\n",
              "        [0.61049473, 0.81548532, 0.3995332 , ..., 0.56056749,\n",
              "         0.79160355, 0.25629657]],\n",
              "\n",
              "       [[0.65349447, 0.00617737, 0.17634084, ..., 0.14287215,\n",
              "         0.72435398, 0.39145847],\n",
              "        [0.27916017, 0.57833231, 0.14911763, ..., 0.18994186,\n",
              "         0.26509924, 0.57930507],\n",
              "        [0.0528823 , 0.29349746, 0.39598409, ..., 0.97794643,\n",
              "         0.5480041 , 0.04530326],\n",
              "        ...,\n",
              "        [0.4683461 , 0.77158763, 0.62072276, ..., 0.45383742,\n",
              "         0.00417516, 0.5087458 ],\n",
              "        [0.77572131, 0.57970224, 0.65129485, ..., 0.22397487,\n",
              "         0.8061383 , 0.21287791],\n",
              "        [0.07866097, 0.8211311 , 0.88308675, ..., 0.33482299,\n",
              "         0.36320478, 0.57248007]],\n",
              "\n",
              "       [[0.47525482, 0.09413622, 0.64056407, ..., 0.08475157,\n",
              "         0.82090311, 0.30223545],\n",
              "        [0.71936862, 0.44357478, 0.16886069, ..., 0.69045805,\n",
              "         0.09448751, 0.10141467],\n",
              "        [0.18520033, 0.22456981, 0.13455381, ..., 0.84721965,\n",
              "         0.79629219, 0.2043043 ],\n",
              "        ...,\n",
              "        [0.4706167 , 0.05861286, 0.79741557, ..., 0.46416019,\n",
              "         0.49373479, 0.0666722 ],\n",
              "        [0.21192655, 0.32381522, 0.85402375, ..., 0.99074154,\n",
              "         0.09383724, 0.17155832],\n",
              "        [0.88339789, 0.39341845, 0.51186879, ..., 0.6164514 ,\n",
              "         0.03597527, 0.17364189]],\n",
              "\n",
              "       ...,\n",
              "\n",
              "       [[0.13684754, 0.35272046, 0.84590324, ..., 0.91904622,\n",
              "         0.6404635 , 0.17515942],\n",
              "        [0.28402783, 0.94231286, 0.24496959, ..., 0.53009304,\n",
              "         0.36290523, 0.97773879],\n",
              "        [0.87301863, 0.99096131, 0.91158269, ..., 0.73059102,\n",
              "         0.62756943, 0.90083612],\n",
              "        ...,\n",
              "        [0.33768843, 0.32559825, 0.64109961, ..., 0.65730222,\n",
              "         0.08032569, 0.49016755],\n",
              "        [0.72945518, 0.58768916, 0.33967582, ..., 0.54793825,\n",
              "         0.67734914, 0.82551032],\n",
              "        [0.09991601, 0.24132476, 0.835504  , ..., 0.43387823,\n",
              "         0.16199914, 0.09243679]],\n",
              "\n",
              "       [[0.31045461, 0.66441891, 0.09479652, ..., 0.86699168,\n",
              "         0.57781251, 0.61482122],\n",
              "        [0.64834304, 0.15600876, 0.69106609, ..., 0.63399913,\n",
              "         0.92316464, 0.14954472],\n",
              "        [0.77964218, 0.36082036, 0.58511592, ..., 0.74253622,\n",
              "         0.13239495, 0.78000275],\n",
              "        ...,\n",
              "        [0.93681493, 0.66302805, 0.30977896, ..., 0.03362665,\n",
              "         0.21201608, 0.79967135],\n",
              "        [0.68860398, 0.62412936, 0.47492428, ..., 0.15829964,\n",
              "         0.87524782, 0.13482826],\n",
              "        [0.65590802, 0.00493544, 0.86415561, ..., 0.47699018,\n",
              "         0.28611864, 0.40076897]],\n",
              "\n",
              "       [[0.23280311, 0.43008915, 0.57451356, ..., 0.07034182,\n",
              "         0.4434079 , 0.99736921],\n",
              "        [0.483798  , 0.68287604, 0.83208197, ..., 0.92485348,\n",
              "         0.97238246, 0.92594321],\n",
              "        [0.40757704, 0.14439808, 0.72733195, ..., 0.50862624,\n",
              "         0.25755958, 0.59166634],\n",
              "        ...,\n",
              "        [0.02383074, 0.39259364, 0.09529461, ..., 0.75421533,\n",
              "         0.78251187, 0.97321829],\n",
              "        [0.69517137, 0.09266691, 0.12557407, ..., 0.93897273,\n",
              "         0.56089635, 0.640072  ],\n",
              "        [0.10377958, 0.96502888, 0.8243446 , ..., 0.17079747,\n",
              "         0.75054001, 0.33678996]]])"
            ]
          },
          "metadata": {},
          "execution_count": 50
        }
      ]
    },
    {
      "cell_type": "markdown",
      "source": [
        "We can produce 1000 datapoints of a normally distributed data set by using np.random.normal()"
      ],
      "metadata": {
        "id": "kYnFiGlb7LmA"
      }
    },
    {
      "cell_type": "code",
      "source": [
        "mu, sigma = 0, 0.1 # mean and standard deviation\n",
        "s = np.random.normal(mu, sigma, 1000)\n",
        "print(s)"
      ],
      "metadata": {
        "colab": {
          "base_uri": "https://localhost:8080/"
        },
        "id": "9o174tOk7Ohg",
        "outputId": "a0942d4b-d9fd-43ce-c21c-1b595606ac0c"
      },
      "execution_count": 51,
      "outputs": [
        {
          "output_type": "stream",
          "name": "stdout",
          "text": [
            "[-6.53663413e-02  3.84514044e-02 -6.60083508e-02  7.35535450e-02\n",
            " -2.89217746e-02 -6.41348135e-03  4.00731028e-02 -7.60916502e-02\n",
            " -1.24820292e-01  2.02895236e-01 -2.53612477e-02  3.97055006e-02\n",
            "  7.93810963e-02  6.83465268e-02 -1.23747942e-02 -1.97819963e-01\n",
            "  9.04834644e-02 -7.91429136e-02 -2.27914364e-02  1.41581822e-02\n",
            " -1.63706060e-01  1.69245808e-01  7.50269684e-03  1.88527346e-01\n",
            " -1.28576914e-02 -9.49484066e-02 -3.31197761e-03  3.81485407e-03\n",
            "  1.10756004e-01 -7.46196025e-02 -1.09994321e-02  5.04969615e-02\n",
            " -1.06951287e-01  3.06645435e-02  1.14657133e-01 -4.54235279e-03\n",
            " -1.61105034e-02 -4.86822721e-02  3.10142487e-02 -6.06727498e-02\n",
            " -1.71791632e-02 -1.35563921e-01 -6.07553073e-02  5.59878194e-02\n",
            "  1.05928736e-01 -1.36176074e-01 -9.81691093e-02 -9.27618005e-02\n",
            "  2.34574480e-01  9.60148292e-02 -3.78043150e-02 -1.36078156e-01\n",
            " -1.60638510e-01 -2.70462098e-02  1.31824079e-02  7.13059726e-02\n",
            " -1.19708488e-01  2.93588817e-02 -1.14345079e-01 -8.96803452e-02\n",
            " -9.07727323e-02 -1.60116327e-01  1.91963035e-03  7.35841639e-02\n",
            " -2.78426092e-02  5.76731132e-03  2.74088690e-02  1.14107320e-01\n",
            " -5.22434334e-02  2.32600368e-02  1.32819648e-01  1.96647810e-01\n",
            " -1.44369841e-01  6.04461036e-02 -1.06000216e-01  4.63506852e-02\n",
            "  1.77177445e-01 -5.51952716e-02  3.67939591e-03 -1.98489000e-01\n",
            " -1.95050568e-03 -9.96039009e-02 -6.14834230e-02 -2.03008234e-02\n",
            "  9.78463973e-02  8.37627244e-02 -1.14874260e-01 -2.77585079e-02\n",
            " -1.02008720e-01 -7.15999049e-02 -4.06875732e-02 -1.22837961e-01\n",
            " -2.35062224e-01 -4.13479380e-02 -3.01219601e-02 -1.55918646e-02\n",
            "  4.78919487e-02 -8.91286588e-02  1.97738822e-02 -1.08535961e-01\n",
            "  5.11756728e-02  1.41516723e-01  1.53491222e-01  1.63824727e-01\n",
            "  1.38882732e-01 -1.80708641e-02  5.56146645e-03  5.88245655e-02\n",
            "  9.03680365e-02 -1.84888224e-01 -5.81136106e-03  1.37716289e-01\n",
            " -6.70482708e-03 -8.86073779e-03 -6.23426783e-02 -4.24600423e-02\n",
            "  1.14563748e-01  3.61260430e-02  6.62645304e-03 -6.05576497e-02\n",
            "  5.06353831e-02 -4.43976243e-02 -9.95417293e-02 -1.91266686e-02\n",
            " -5.88869929e-02  1.94165826e-01 -1.62038082e-01 -2.31741412e-04\n",
            " -1.36486158e-01  6.49111350e-02 -6.57525542e-02 -7.87477892e-02\n",
            "  5.01377793e-02  1.94005581e-01 -4.83255692e-02 -7.98665573e-02\n",
            " -2.06213540e-01 -1.20535880e-01  8.22964382e-02 -9.88059749e-02\n",
            " -6.25432091e-02 -1.10140329e-02  7.99391950e-02 -9.00827418e-02\n",
            " -1.20211547e-01  5.82597875e-02  2.10254012e-01 -8.77119890e-02\n",
            "  3.27187843e-02 -1.96287369e-01  4.36861950e-02  1.01953597e-01\n",
            "  5.29247477e-02 -3.36115782e-02  5.43965760e-02 -6.03574771e-02\n",
            "  1.18335994e-01 -5.99324721e-02  1.92015136e-01 -1.72254064e-02\n",
            "  1.04938240e-01  5.74324617e-02 -1.04909213e-01 -3.27861093e-02\n",
            " -1.64147141e-01  8.72633575e-02 -1.49316894e-01 -7.08474068e-02\n",
            "  8.21912500e-02  1.25892545e-01 -1.21386682e-02 -4.96790410e-02\n",
            " -2.84279391e-02 -2.35415101e-02 -6.46520788e-02 -1.30553267e-01\n",
            " -1.66699248e-01  3.05470536e-02 -4.68922961e-02 -8.53312007e-02\n",
            "  1.37403393e-01 -4.08931138e-02 -2.39985477e-01 -2.85040824e-02\n",
            "  1.02088836e-02 -7.70669639e-02  1.70816880e-02 -9.63475701e-02\n",
            "  1.24779568e-01 -8.81211030e-02 -5.39589313e-02  2.09138836e-02\n",
            " -4.65004393e-02  8.88455085e-02 -1.15104106e-01 -5.63602132e-02\n",
            "  4.34045377e-02  7.15262578e-02 -1.46385197e-01  3.44551078e-02\n",
            "  1.48445930e-01  1.04816557e-02 -4.59942986e-02 -1.06356245e-01\n",
            "  1.45523510e-01 -1.74628061e-01 -7.58502017e-02  3.55150438e-02\n",
            " -1.93524478e-02 -2.19115253e-02 -3.17308129e-02  1.22307085e-01\n",
            "  8.00250477e-02 -1.39904372e-01  4.54189482e-02  1.23643413e-01\n",
            "  1.20200463e-01  1.80944098e-01 -1.76524149e-02  1.01099759e-01\n",
            "  4.24919820e-02  5.36713604e-03 -1.18312669e-01  4.60797170e-02\n",
            "  1.56543271e-02 -4.70886868e-02 -5.09007023e-02  2.41471654e-02\n",
            "  2.01336539e-01 -1.79646145e-01  1.41721465e-01  6.88102536e-02\n",
            " -1.92099537e-02  1.43195642e-01 -1.21911316e-01  2.36394108e-01\n",
            " -1.53210040e-01 -2.12294121e-02 -9.35089885e-02 -1.24162007e-01\n",
            "  8.18727156e-02 -2.04562704e-01 -6.52028891e-02 -1.07968398e-01\n",
            "  8.68231627e-03  3.03340784e-02 -1.03118905e-02 -1.47680548e-02\n",
            "  6.34415103e-02 -1.13549030e-01  8.75217214e-02 -1.77578562e-02\n",
            "  5.78231463e-02 -1.76504285e-01  1.26884717e-01  5.09964365e-02\n",
            "  4.87015749e-02  4.02809326e-02  5.24709641e-02  4.70791158e-02\n",
            " -6.84044307e-02  1.60676122e-01 -4.92114664e-02 -1.41720272e-01\n",
            " -2.26988660e-03 -6.89604255e-02 -1.87232995e-02 -6.23325350e-03\n",
            "  9.24619417e-02  7.29467510e-02  1.77343387e-01  4.36496556e-02\n",
            " -9.40711551e-02  1.44443699e-02 -1.17967660e-01  5.65119333e-02\n",
            "  1.14057061e-01 -1.03820748e-01 -7.78512132e-02  2.38450965e-03\n",
            "  5.14021363e-02 -7.14882078e-02  9.16867079e-02 -3.18862299e-02\n",
            "  4.86239069e-02 -9.79007120e-02 -1.20572854e-01 -2.54709465e-01\n",
            " -3.97448187e-02 -9.65338842e-02  1.81030300e-01 -5.07836533e-02\n",
            "  4.30727870e-02  1.01516185e-01  2.68717122e-02  7.74053165e-02\n",
            " -2.04294749e-01 -2.07254881e-02  4.28165811e-02 -2.16170744e-01\n",
            " -1.01501286e-02  1.02668740e-01  6.64342542e-02  2.30925338e-02\n",
            " -9.92030535e-03  9.91073012e-02 -3.95310993e-02  1.44834454e-03\n",
            " -5.88991736e-02  1.80438712e-02  3.48045012e-02  4.67359365e-02\n",
            " -1.80212561e-01 -1.18248802e-01 -7.69895701e-02  1.74055761e-01\n",
            " -2.08054354e-02 -9.64193607e-02  1.75594117e-01  3.60132799e-02\n",
            "  3.52440338e-02  8.12147445e-02  6.51917167e-02  1.01179026e-01\n",
            " -2.78949837e-02  1.18426992e-03  8.20164078e-02 -1.43108655e-01\n",
            "  1.15309796e-01  1.25922497e-01  3.70870202e-02 -9.45250887e-02\n",
            "  1.28156142e-01  3.39283407e-03 -6.54633851e-02 -9.72366385e-02\n",
            "  3.72281479e-02  2.58899865e-03  4.82844145e-02  4.45027444e-03\n",
            " -5.74298777e-02 -1.66169939e-01  9.32158639e-03  1.26976633e-01\n",
            " -1.71095437e-02  4.97303926e-02  2.13147114e-02 -2.97580421e-02\n",
            " -1.70959748e-01  1.44740140e-01 -2.39670204e-01  1.78232183e-03\n",
            " -2.01590714e-02 -3.07271757e-02 -2.19053282e-02  6.40213043e-02\n",
            " -4.99766544e-02  1.01893569e-01  2.88509073e-02  1.20762210e-01\n",
            "  9.68594573e-02 -6.47641497e-03  2.20980555e-01  3.69118935e-02\n",
            " -1.55659982e-01 -7.69386443e-02 -6.44443713e-02  5.72815903e-02\n",
            "  1.00208838e-01  3.00468860e-02 -6.48564253e-02  9.93097352e-03\n",
            " -9.05896000e-02 -2.14647794e-01 -1.07317003e-01  2.14730268e-02\n",
            "  1.60851835e-01  1.24415863e-01 -1.03786903e-01 -1.03220408e-01\n",
            "  1.92157861e-01  4.67258906e-02  4.72380821e-02 -2.03027393e-02\n",
            "  2.81392397e-02  1.26402148e-01  5.36289316e-02  9.15559465e-02\n",
            " -6.43971178e-02 -8.51170057e-02  5.01534367e-02 -5.64832606e-02\n",
            " -3.89806426e-02  9.50924286e-03 -1.74482600e-01 -1.74970084e-01\n",
            " -1.80813420e-01  2.46322887e-02 -2.71958861e-02  1.33485790e-01\n",
            " -2.17637495e-01 -2.86691299e-02  1.76879114e-03  3.77840846e-02\n",
            " -6.34077282e-02  6.16070035e-02  8.89878026e-02  1.10537976e-01\n",
            "  1.53202061e-01 -7.71783803e-02 -1.41598349e-01  1.27401886e-01\n",
            "  3.62587546e-02 -1.01109599e-01  3.64239693e-02 -2.05134179e-01\n",
            "  4.36223683e-02  1.36844776e-01 -1.43897114e-01  1.41719231e-01\n",
            "  4.35964984e-02  1.44047438e-01  8.44449265e-02 -4.23123636e-02\n",
            "  1.06014076e-01  1.22056607e-01  1.39928384e-01 -6.97879411e-03\n",
            "  5.67955095e-02  4.85393508e-02 -6.09175966e-02 -3.31668916e-02\n",
            " -2.34551018e-02  1.50579185e-02  6.83126932e-02  8.29578471e-02\n",
            "  1.25457969e-01 -2.12093830e-02  8.46606018e-02 -1.15392323e-01\n",
            " -5.84319151e-02 -8.52439962e-02  4.87645542e-02 -9.94724826e-02\n",
            " -9.13036742e-02  6.49055437e-02  1.15654140e-01 -1.90021331e-02\n",
            " -2.34710181e-02 -5.02153508e-02 -1.10763735e-01  4.51836243e-02\n",
            " -9.20171193e-02  2.09695656e-01 -1.73865807e-02  8.07349320e-02\n",
            "  1.04034094e-02 -9.68695421e-02 -2.29893864e-02  1.87207036e-01\n",
            " -6.71105960e-02 -1.28188564e-01  5.09075885e-02  9.87854876e-03\n",
            " -5.05270993e-03  2.50964836e-02 -3.88931617e-02 -4.06599746e-02\n",
            "  8.81517223e-03  1.95561867e-01  5.11192083e-02 -7.85280403e-02\n",
            "  9.37076286e-02 -1.38333382e-01 -3.72182848e-02  5.81461050e-02\n",
            " -3.06246645e-02 -1.97385485e-02  5.15358795e-02 -5.94685514e-02\n",
            " -1.13637082e-01  8.21213333e-02  1.22834608e-01 -6.03426227e-03\n",
            " -3.95355939e-02 -5.26765275e-02  3.63528472e-02 -5.54811277e-02\n",
            "  1.24664685e-01 -2.16006982e-01  1.06130331e-02  4.80330182e-02\n",
            "  4.19499915e-02  1.61212945e-02  6.27705677e-02  1.71330957e-02\n",
            " -1.23557386e-01  3.12502553e-02  6.21598732e-02 -5.94404929e-02\n",
            "  1.49774807e-01 -1.78763591e-01  8.10861544e-02  1.07069566e-01\n",
            " -2.75172316e-02 -5.68234920e-02 -1.25321748e-01 -1.28613653e-01\n",
            " -2.49350769e-01  6.11352939e-02  5.22600114e-02  2.00080990e-01\n",
            " -8.27787631e-02 -3.63391314e-02  1.78139045e-01  2.63694423e-02\n",
            " -1.28668554e-01  1.08929290e-01  8.57333387e-03 -1.57399273e-01\n",
            "  1.67520368e-02 -5.64630578e-02  1.32827208e-01  1.19209960e-01\n",
            " -1.48788985e-01  2.26091600e-01  1.90824991e-01 -1.05892414e-02\n",
            "  7.07943098e-02 -1.34452965e-02 -3.63147913e-02 -7.45983115e-02\n",
            "  5.58915445e-02  9.23201307e-02 -2.60453371e-01  4.06849680e-02\n",
            " -1.48635713e-02 -3.27864820e-03 -8.52445683e-02  6.04389749e-02\n",
            " -1.62003922e-01  7.83267767e-02  3.47239454e-02 -8.61887672e-02\n",
            " -1.22402851e-02 -7.50326593e-02 -1.29639857e-01 -3.95720852e-02\n",
            "  2.73693494e-02  1.03420453e-02  3.68200297e-02  1.03178479e-01\n",
            " -6.69665890e-02  9.86283833e-02  9.55193142e-02  9.32422614e-02\n",
            "  1.85191923e-03  9.07291279e-02  1.39277393e-01  3.54368603e-02\n",
            " -2.57760914e-02  1.31406935e-01  2.82077766e-02 -8.09622613e-02\n",
            " -3.11060569e-02 -7.42612966e-02  7.93343413e-02 -1.01841537e-01\n",
            " -5.56431640e-02  6.88254941e-02  7.84746840e-02 -1.01658584e-01\n",
            " -1.77346497e-01 -7.12696683e-02  6.65848998e-02  2.02060974e-01\n",
            " -1.11328536e-02  8.14433269e-02  7.16538785e-02  9.15306127e-02\n",
            "  1.84594803e-01 -2.56117315e-02  1.46656608e-01 -5.54156993e-02\n",
            "  9.27717448e-02  8.05706673e-02 -9.72925970e-02  2.30729830e-02\n",
            " -6.87390033e-02  3.66888281e-02 -8.58392446e-02 -4.39901610e-03\n",
            " -3.23363669e-02  3.25254154e-02 -1.37790826e-03 -3.15658360e-02\n",
            " -4.21968428e-03 -1.41626012e-01  9.16429272e-02  4.87915329e-02\n",
            " -3.22154165e-01  4.19017772e-02  1.13748280e-01 -1.02511326e-01\n",
            " -6.33452686e-02  8.90197769e-02 -3.53342038e-02  1.23944576e-01\n",
            "  2.59591713e-01 -1.24255633e-01  1.75604233e-02  1.47761123e-01\n",
            " -8.69281328e-02  5.13476789e-02 -9.53030735e-02 -4.33497919e-02\n",
            " -7.69787950e-03  2.39878605e-01 -3.77113344e-03  4.11930619e-02\n",
            " -7.41317834e-02 -5.93496856e-02 -1.42170503e-01  1.60369537e-01\n",
            " -2.87423390e-02  2.61475327e-02  4.64391533e-02  5.24733148e-02\n",
            " -6.09857069e-02  2.28131480e-02  3.77250255e-02 -1.25467202e-01\n",
            " -1.75766191e-02  6.01005072e-02 -7.11675436e-02 -5.05375362e-02\n",
            "  9.24718489e-02 -1.47795967e-01 -1.33182077e-01 -6.66203530e-02\n",
            " -2.61122264e-01 -1.58738496e-01  1.83180345e-01 -9.65385536e-02\n",
            " -5.29543417e-02 -5.47810845e-02 -5.01556493e-02 -1.63919591e-01\n",
            "  1.41710242e-02 -1.75316553e-02  3.05313815e-03 -6.97705005e-02\n",
            " -8.74747916e-02 -7.22174263e-02  7.26780110e-02  1.74674854e-01\n",
            "  3.66356963e-02 -8.98637826e-02  2.50268662e-02 -1.63008081e-01\n",
            " -1.57981549e-01  4.70165460e-02 -1.35057508e-01 -3.06765963e-02\n",
            " -9.03864900e-02  1.29313359e-02 -1.32865449e-01 -1.10620610e-02\n",
            " -2.51920334e-02  5.35337976e-02 -7.26591596e-02 -7.72883951e-02\n",
            "  8.87623407e-02 -1.05864784e-01 -2.20943256e-01  1.19482289e-02\n",
            " -5.00275691e-02  1.66955201e-01 -7.97064139e-02  6.84571491e-02\n",
            "  6.74618824e-02  6.25850812e-02 -7.34909732e-02 -8.70169523e-02\n",
            " -2.40911891e-02 -4.12992640e-02 -2.77178052e-02  4.63191703e-02\n",
            "  1.11713102e-01 -1.77213262e-01 -7.76582734e-03 -1.81947001e-02\n",
            " -3.29440601e-02  1.37376723e-01  8.63497269e-02  1.37629382e-01\n",
            " -1.26491264e-02  9.01250632e-02 -8.13626145e-03 -1.19764346e-01\n",
            " -1.64758070e-02  7.24656893e-02  8.11709808e-02 -1.33576787e-01\n",
            " -9.74478708e-02 -7.14679561e-02  1.21252188e-01 -1.13669309e-01\n",
            " -4.33714279e-02  6.76048463e-02  3.29446465e-02 -2.81069163e-02\n",
            " -1.86481964e-01  2.08160614e-01  2.60251558e-02 -1.93254702e-01\n",
            "  1.33556565e-01 -1.27446846e-01  1.42125546e-01  1.04846023e-01\n",
            "  1.84061653e-02 -1.04145738e-01  9.20139787e-02 -9.67600790e-02\n",
            "  9.41075447e-02 -1.34066159e-02  1.23390783e-01  1.93472454e-01\n",
            " -1.05587111e-01 -9.54857498e-02  6.14205013e-02 -7.32687351e-02\n",
            "  1.37009921e-02  1.44481839e-02 -8.20641451e-02  3.25762997e-02\n",
            "  4.48170994e-02  2.18665534e-01  7.20752477e-02 -1.34636575e-01\n",
            " -3.84035957e-02 -6.85459075e-02 -1.07199537e-01 -2.36846173e-02\n",
            " -1.31763303e-01 -6.24224348e-02 -1.06694810e-01  1.14536525e-01\n",
            "  1.10909494e-01 -1.16420092e-01  7.46633506e-02  5.49317587e-02\n",
            " -6.23565585e-03  1.36151001e-02  7.04029239e-02 -2.71066979e-02\n",
            " -1.56290283e-02  1.72122981e-02  1.25549030e-01  2.28625306e-02\n",
            " -6.54937595e-02 -1.27832386e-01  1.57522276e-01  4.75713356e-02\n",
            " -1.04388322e-01  1.13120803e-01 -1.18857265e-02 -1.41297215e-01\n",
            " -5.41829516e-02 -1.52975208e-01 -1.26387837e-01  8.29803103e-03\n",
            " -1.67789112e-01 -1.08537885e-01 -6.20033218e-02 -3.03768812e-02\n",
            "  2.37984304e-02 -1.59321158e-03  1.16645647e-01  1.29987797e-01\n",
            " -1.01305545e-01 -6.41961881e-02 -8.06423198e-02 -2.83034790e-02\n",
            " -2.11081465e-02  2.59250940e-01  7.25372947e-02  8.75033956e-03\n",
            " -1.18491550e-01 -5.98830098e-02 -1.31258550e-01  1.15790303e-01\n",
            "  9.35484438e-02 -1.27987478e-01  3.38839339e-02  2.92650782e-02\n",
            " -6.46749538e-02  3.63835957e-02  5.60529764e-02 -3.64565622e-02\n",
            "  7.91998095e-02  1.25340065e-01 -1.90194815e-02  1.70011574e-02\n",
            " -7.32156684e-02 -8.69576605e-02 -1.16877593e-02 -1.23004706e-01\n",
            " -3.46247349e-02  2.80288093e-02  4.22448753e-02 -1.05880248e-01\n",
            "  1.08409577e-01 -6.87656660e-03 -9.55598809e-03 -1.34593018e-01\n",
            " -2.17796945e-01  5.92780505e-02 -7.77745714e-03 -4.22879639e-02\n",
            " -9.37721825e-02 -1.43630831e-01  5.75733404e-02  3.45129056e-02\n",
            " -2.81973198e-02 -3.35965404e-02 -7.45155729e-02  1.91216508e-02\n",
            " -6.91493254e-02 -5.00810726e-02  1.53689265e-01 -1.71986381e-02\n",
            " -1.17042572e-01 -8.61895529e-03  7.80742038e-02  1.16215630e-01\n",
            " -1.70143314e-01 -1.74353551e-01  7.88387698e-02  7.81760117e-02\n",
            " -1.06816991e-01  3.63702530e-02 -2.11368113e-01 -3.09900453e-02\n",
            "  1.37680264e-01  3.35084603e-02 -5.97644078e-02  5.95832643e-02\n",
            " -4.74612499e-02  7.51969978e-02  2.19371631e-02 -1.81736515e-01\n",
            " -1.76375911e-01 -8.49386198e-02  6.81045875e-02  8.17869761e-02\n",
            "  6.64482082e-02 -5.35940139e-02  6.79763872e-02 -5.59256993e-02\n",
            " -6.68890605e-02 -3.69351376e-02  7.90912290e-02 -2.72593463e-02\n",
            " -8.95857749e-02 -6.57116912e-02 -4.09835749e-02  4.12048641e-02\n",
            " -8.31493940e-02 -3.04402924e-02 -4.89669496e-02  1.11266798e-01\n",
            "  3.44201211e-02 -1.80305075e-01 -1.40283178e-01  3.54403294e-02\n",
            "  5.49722304e-02  1.46017071e-01 -6.88563424e-02 -4.09794140e-02\n",
            "  1.08641294e-01  4.85016024e-02 -1.04074325e-01 -4.86937083e-02\n",
            " -6.56782278e-02  7.40392767e-02  8.49546001e-02  2.02141642e-02\n",
            "  2.82946942e-02 -5.05044684e-02 -1.24201441e-01  8.80786176e-02\n",
            " -3.55700088e-02  1.75034792e-02 -2.76190356e-02 -5.35570581e-02\n",
            " -6.03458738e-02  2.28386673e-02  2.90965395e-02  4.81573934e-02\n",
            " -1.34380125e-01  5.42310887e-02  4.89020072e-02  9.92907973e-02\n",
            " -3.79980978e-02  3.79674106e-01  1.75446968e-03  1.41168836e-01\n",
            " -8.34781786e-02 -2.06742767e-02 -3.58103312e-02  6.11173980e-02\n",
            "  1.64569213e-01  1.26160960e-01  4.84146505e-02 -9.51930856e-02\n",
            "  6.22108461e-02  5.21264851e-02 -1.76259217e-01  2.91915122e-02\n",
            " -2.98101177e-01  7.41934184e-02  1.26171932e-01 -4.45230083e-02\n",
            "  1.75168993e-01  6.43231056e-02  1.69563575e-01  5.26433580e-02\n",
            " -6.96081796e-02 -6.15497477e-02  1.15013351e-02  1.69196666e-01\n",
            " -6.52165516e-03  3.03887530e-02  4.45962954e-02  1.04472183e-03\n",
            "  6.90449068e-02 -2.47979079e-01  9.27768309e-03 -9.14241889e-03\n",
            "  7.93412707e-02  2.02855415e-02 -1.15656279e-01 -2.03725815e-02\n",
            " -1.36147254e-02  1.21716564e-02  1.56931821e-02 -1.49879608e-01\n",
            " -6.00309575e-02 -4.02688879e-02 -3.76741152e-02 -1.15197299e-01\n",
            " -3.19549194e-02 -1.58603657e-02 -8.69617008e-02 -5.47719270e-02\n",
            "  4.58596242e-02 -3.76068214e-04 -7.51033994e-02  6.51933898e-03\n",
            "  3.44503105e-02 -3.62403653e-02  1.17950744e-01  8.18912686e-02\n",
            "  4.99544419e-02  6.48179052e-02 -4.54526715e-02 -6.78895553e-03\n",
            " -1.11571119e-01  1.53386754e-04  7.11454097e-02  9.69452751e-02\n",
            " -1.42609986e-01  3.39799962e-02  1.11130970e-01  4.65420442e-02\n",
            " -8.86427800e-02 -2.58177956e-04  1.49688213e-01  8.56271403e-02\n",
            " -1.53550062e-01  7.67343898e-02  6.22636163e-02  3.63485330e-02\n",
            "  2.13965656e-01  5.82454985e-02  1.03408752e-01  1.30774747e-01\n",
            " -3.87831253e-02 -2.58041759e-02 -2.06085544e-01 -1.67164574e-01\n",
            " -5.85944744e-02  1.99383451e-02 -1.56330422e-02 -6.06399605e-03\n",
            " -1.55334857e-01  5.81927382e-02 -1.06434113e-01 -1.75631803e-02]\n"
          ]
        }
      ]
    },
    {
      "cell_type": "markdown",
      "source": [
        "Exercise"
      ],
      "metadata": {
        "id": "zCZhVBzg7Ulc"
      }
    },
    {
      "cell_type": "code",
      "source": [
        " # Simulate a six-sided dice using numpy.random.choice(), generate a list of values you would obtain from 10 throws.\n",
        "\n",
        "flip = np.random.choice([1,2,3,4,5,6], 10)\n",
        "flip"
      ],
      "metadata": {
        "colab": {
          "base_uri": "https://localhost:8080/"
        },
        "id": "_0zJ1Rnu7WgH",
        "outputId": "e9ae92ee-02e0-4f57-e9ca-fc910bdac3aa"
      },
      "execution_count": 52,
      "outputs": [
        {
          "output_type": "execute_result",
          "data": {
            "text/plain": [
              "array([6, 5, 6, 5, 3, 1, 5, 3, 4, 2])"
            ]
          },
          "metadata": {},
          "execution_count": 52
        }
      ]
    },
    {
      "cell_type": "code",
      "source": [
        "# Simulate a two-sided coin toss that is NOT fair: it is twice as likely to have head than tails.\n",
        "\n",
        "coin_throw = np.random.choice(['Head',\"Head\",'Tail'],2)\n",
        "coin_throw"
      ],
      "metadata": {
        "colab": {
          "base_uri": "https://localhost:8080/"
        },
        "id": "94asP8vk7aQZ",
        "outputId": "730f0ea6-0bda-457f-d859-a05ac3280a8c"
      },
      "execution_count": 55,
      "outputs": [
        {
          "output_type": "execute_result",
          "data": {
            "text/plain": [
              "array(['Head', 'Head'], dtype='<U4')"
            ]
          },
          "metadata": {},
          "execution_count": 55
        }
      ]
    }
  ]
}