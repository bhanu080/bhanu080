{
  "nbformat": 4,
  "nbformat_minor": 0,
  "metadata": {
    "colab": {
      "provenance": [],
      "authorship_tag": "ABX9TyPmmIQo8omxVebZN9T3Pryq",
      "include_colab_link": true
    },
    "kernelspec": {
      "name": "python3",
      "display_name": "Python 3"
    },
    "language_info": {
      "name": "python"
    }
  },
  "cells": [
    {
      "cell_type": "markdown",
      "metadata": {
        "id": "view-in-github",
        "colab_type": "text"
      },
      "source": [
        "<a href=\"https://colab.research.google.com/github/bhanu080/bhanu080/blob/main/OOPs_Exercise.ipynb\" target=\"_parent\"><img src=\"https://colab.research.google.com/assets/colab-badge.svg\" alt=\"Open In Colab\"/></a>"
      ]
    },
    {
      "cell_type": "code",
      "execution_count": 13,
      "metadata": {
        "colab": {
          "base_uri": "https://localhost:8080/"
        },
        "id": "vM_TmKrZJocH",
        "outputId": "1806456d-d9cb-4d92-d29c-6441f7cde4f1"
      },
      "outputs": [
        {
          "output_type": "stream",
          "name": "stdout",
          "text": [
            "Creta 140 10\n"
          ]
        }
      ],
      "source": [
        "\n",
        "#1.Write a Python program to create a Vehicle class with name, max_speed and mileage instance attributes.\n",
        "\n",
        "class Vehicle:\n",
        "    def __init__(self,name,max_speed, mileage):\n",
        "      self.name=name\n",
        "      self.max_speed = max_speed\n",
        "      self.mileage = mileage\n",
        "\n",
        "model = Vehicle('Creta',140, 10)\n",
        "print(model.name,model.max_speed, model.mileage)\n",
        "\n"
      ]
    },
    {
      "cell_type": "code",
      "source": [
        "# 2.For the same problem statement1,Define a property that must have the same value for every class instance (object)\n",
        "\n",
        "\n",
        "class Vehicle:\n",
        "  color=\"white\"\n",
        "  def __init__(self,name,max_speed, mileage):\n",
        "    self.name=name\n",
        "    self.max_speed = max_speed\n",
        "    self.mileage = mileage\n",
        "\n",
        "class Car(Vehicle):\n",
        "   pass\n",
        "\n",
        "car = Car(\"Creta\", 240, 18)\n",
        "print(car.color, car.name, \"Speed:\", car.max_speed, \"Mileage:\", car.mileage)\n"
      ],
      "metadata": {
        "colab": {
          "base_uri": "https://localhost:8080/"
        },
        "id": "b43w0TKfL49Y",
        "outputId": "687ab24b-3048-419a-e1ab-ddedf0fe273e"
      },
      "execution_count": 28,
      "outputs": [
        {
          "output_type": "stream",
          "name": "stdout",
          "text": [
            "white Creta Speed: 240 Mileage: 18\n"
          ]
        }
      ]
    },
    {
      "cell_type": "code",
      "source": [
        "# 3.Create a child class 'Bus' that will inherit all of the variables and methods of the vehicle class\n",
        "\n",
        "\n",
        "class Bus(Vehicle):\n",
        "  pass\n",
        "\n"
      ],
      "metadata": {
        "id": "CPvURQ45NOGW"
      },
      "execution_count": 31,
      "outputs": []
    },
    {
      "cell_type": "code",
      "source": [
        "# 4.create an object for child class i.e Bus and check whether the object is an instance of the Vehicle Class\n",
        "\n",
        "b=Bus('Creta','110','12')\n",
        "#b.display()\n",
        "print(isinstance(b,Vehicle))\n"
      ],
      "metadata": {
        "colab": {
          "base_uri": "https://localhost:8080/"
        },
        "id": "jw7ffWnSPCQb",
        "outputId": "384cfc27-0379-4d5f-d069-7c72a8435579"
      },
      "execution_count": 34,
      "outputs": [
        {
          "output_type": "stream",
          "name": "stdout",
          "text": [
            "True\n"
          ]
        }
      ]
    },
    {
      "cell_type": "code",
      "source": [
        "# 5.Check whether Bus class is a subclass of Vehicle class\n",
        "print(issubclass(Bus,Vehicle))"
      ],
      "metadata": {
        "colab": {
          "base_uri": "https://localhost:8080/"
        },
        "id": "eaZNAOeXQIMv",
        "outputId": "f74d0723-beef-4738-9be1-6592ea65e7f7"
      },
      "execution_count": 33,
      "outputs": [
        {
          "output_type": "stream",
          "name": "stdout",
          "text": [
            "True\n"
          ]
        }
      ]
    },
    {
      "cell_type": "code",
      "source": [
        "# 6 Create an empty class called Car,check Car is a sub class of vehicle class\n",
        "\n",
        "\n",
        "class Car:\n",
        "  pass\n",
        "print(issubclass(Car,Vehicle))"
      ],
      "metadata": {
        "colab": {
          "base_uri": "https://localhost:8080/"
        },
        "id": "c28SluOSSeII",
        "outputId": "d8624e15-8708-41e7-f220-44e99f0139c1"
      },
      "execution_count": 27,
      "outputs": [
        {
          "output_type": "stream",
          "name": "stdout",
          "text": [
            "False\n"
          ]
        }
      ]
    }
  ]
}